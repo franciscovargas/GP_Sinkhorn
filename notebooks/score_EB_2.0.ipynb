{
 "cells": [
  {
   "cell_type": "code",
   "execution_count": 1,
   "id": "imported-poster",
   "metadata": {},
   "outputs": [],
   "source": [
    "import numpy as np\n",
    "import matplotlib.pyplot as plt\n",
    "import scprep\n",
    "import pandas as pd\n",
    "from TrajectoryNet.dataset import EBData\n",
    "from TrajectoryNet.optimal_transport.emd import earth_mover_distance, interpolate_with_ot\n",
    "\n",
    "from gp_sinkhorn.SDE_solver import solve_sde_RK\n",
    "from gp_sinkhorn.MLE_drift import *\n",
    "from gp_sinkhorn.utils import plot_trajectories_2\n",
    "import ot\n",
    "\n",
    "import torch\n",
    "\n",
    "from celluloid import Camera\n",
    "from IPython.display import HTML\n",
    "import math"
   ]
  },
  {
   "cell_type": "code",
   "execution_count": 2,
   "id": "small-driving",
   "metadata": {},
   "outputs": [
    {
     "name": "stdout",
     "output_type": "stream",
     "text": [
      "Embedding shape  (16819, 100)\n",
      "Labels shape  (16819,)\n",
      "Embedding shape  (16819, 100)\n",
      "Warning: Clipping dimensionality to 5\n"
     ]
    }
   ],
   "source": [
    "ds = EBData('pcs', max_dim=5)"
   ]
  },
  {
   "cell_type": "code",
   "execution_count": 3,
   "id": "gentle-biography",
   "metadata": {},
   "outputs": [],
   "source": [
    "frame_0_start, frame_0_end = np.where(ds.labels == 0)[0][0], np.where(ds.labels == 0)[0][-1]\n",
    "frame_4_start, frame_4_end = np.where(ds.labels == 4)[0][0], np.where(ds.labels == 4)[0][-1]\n",
    "\n",
    "\n",
    "frame_2_start, frame_2_end = np.where(ds.labels == 2)[0][0], np.where(ds.labels == 2)[0][-1]\n",
    "\n",
    "frame_1_start, frame_1_end = np.where(ds.labels == 1)[0][0], np.where(ds.labels == 1)[0][-1]\n",
    "\n",
    "\n",
    "frame_3_start, frame_3_end = np.where(ds.labels == 3)[0][0], np.where(ds.labels == 3)[0][-1]\n",
    "\n",
    "X_mid_f = ds.get_data()[frame_3_start:frame_3_end+1]\n",
    "X_mid_list = [ds.get_data()[frame_1_start:frame_1_end+1],ds.get_data()[frame_2_start:frame_2_end+1],ds.get_data()[frame_3_start:frame_3_end+1]]"
   ]
  },
  {
   "cell_type": "code",
   "execution_count": 4,
   "id": "willing-canyon",
   "metadata": {},
   "outputs": [],
   "source": [
    "X_0_f = ds.get_data()[frame_0_start:frame_0_end+1]\n",
    "X_1_f = ds.get_data()[frame_4_start:]\n"
   ]
  },
  {
   "cell_type": "code",
   "execution_count": null,
   "id": "interested-mumbai",
   "metadata": {},
   "outputs": [],
   "source": [
    "#many_results = pd.read_pickle('../data/result_final.pkl')\n",
    "many_results_gp = pd.read_pickle(\"../assets/result_dump/40/result_12.pkl\") # With gp prior\n",
    "many_results_no_gp = pd.read_pickle(\"../assets/result_dump/3/result_final.pkl\")\n",
    "results_plot = np.zeros((len(many_results_gp),2))\n",
    "for i in range(5):\n",
    "    print(\"Iteration number \",i)\n",
    "    for idx,many_results in enumerate([many_results_gp,many_results_no_gp]):\n",
    "        result_final_epoch = many_results[i]\n",
    "\n",
    "        time_forward, zs_forward, time_backward, zs_backward = result_final_epoch\n",
    "\n",
    "        zs_forward_ = zs_forward[:,:,:-1]\n",
    "        zs_backward_ = zs_backward[:,:,:-1]\n",
    "        tmp = []\n",
    "        for idx_2,place in enumerate([0.25,0.5,0.75]):\n",
    "            X_mid_f = X_mid_list[idx_2]\n",
    "            tpi_f = int(math.floor(zs_forward_.shape[1] * place))\n",
    "            tpi_b = int(math.floor(zs_backward_.shape[1] *(1-place) ))\n",
    "\n",
    "            emd_f = earth_mover_distance(zs_forward_[:,tpi_f,:], X_mid_f)\n",
    "            emd_b = earth_mover_distance(zs_backward_[:,tpi_b,:], X_mid_f)\n",
    "            print(emd_f,emd_b)\n",
    "            tmp.append(emd_f)\n",
    "            tmp.append(emd_b)\n",
    "        results_plot[i,idx] = np.array(tmp).mean()\n",
    "        print(\"--\")\n",
    "            \n",
    "    print(\"----\")"
   ]
  },
  {
   "cell_type": "code",
   "execution_count": null,
   "id": "editorial-albert",
   "metadata": {},
   "outputs": [],
   "source": [
    "plt.plot(results_plot[:5,0],label=\"GP\")\n",
    "plt.plot(results_plot[:5,1])\n",
    "plt.legend()"
   ]
  },
  {
   "cell_type": "code",
   "execution_count": null,
   "id": "literary-designation",
   "metadata": {},
   "outputs": [],
   "source": [
    "from scipy.spatial.distance import cdist\n",
    "\n",
    "result_ot = np.zeros((2,3,2))\n",
    "for idx,(X_0_tmp,X_1_tmp) in enumerate([(X_0_f,X_1_f),(X_1_f,X_0_f)]):\n",
    "\n",
    "    M = M = ot.dist(X_0_tmp, X_1_tmp)\n",
    "    M /= M.max()\n",
    "    n, m = X_0_tmp.shape[0], X_1_tmp.shape[0]\n",
    "\n",
    "    a, b = np.ones(n,)/n, np.ones(m,)/m\n",
    "    Wd = ot.emd(a,b ,M, numItermax=1e7) # exact linear program\n",
    "    #Wd_reg = ot.sinkhorn(a,b ,M, 1.0) \n",
    "\n",
    "\n",
    "    for idx_2,d in enumerate([0.25,0.5,0.75]):\n",
    "        X_mid_f = X_mid_list[idx_2]\n",
    "        pint = interpolate_with_ot(X_0_tmp, X_1_tmp, Wd, d, size=X_0_tmp.shape[0])\n",
    "        result_ot[idx,idx_2,0] = earth_mover_distance(pint, X_mid_f)\n",
    "        Wdrnd = np.random.choice([0, 1],Wd.shape)\n",
    "        pint_rand = interpolate_with_ot(X_0_tmp, X_1_tmp, Wdrnd, d, size=X_0_tmp.shape[0])\n",
    "        result_ot[idx,idx_2,1] = earth_mover_distance(pint_rand, X_mid_f)\n"
   ]
  },
  {
   "cell_type": "code",
   "execution_count": null,
   "id": "classified-insider",
   "metadata": {},
   "outputs": [],
   "source": [
    "mean = result_ot.mean(axis=(0,1))\n"
   ]
  },
  {
   "cell_type": "code",
   "execution_count": null,
   "id": "small-caribbean",
   "metadata": {},
   "outputs": [],
   "source": [
    "plt.plot([mean[0]]*results_plot.shape[0],label='OT')\n",
    "plt.plot([mean[1]]*results_plot.shape[0],label='OT rand')\n",
    "plt.plot(results_plot[:5,0],label=\"GP\")\n",
    "plt.plot(results_plot[:5,1])\n",
    "plt.legend()"
   ]
  }
 ],
 "metadata": {
  "kernelspec": {
   "display_name": "Python 3",
   "language": "python",
   "name": "python3"
  },
  "language_info": {
   "codemirror_mode": {
    "name": "ipython",
    "version": 3
   },
   "file_extension": ".py",
   "mimetype": "text/x-python",
   "name": "python",
   "nbconvert_exporter": "python",
   "pygments_lexer": "ipython3",
   "version": "3.6.12"
  }
 },
 "nbformat": 4,
 "nbformat_minor": 5
}
