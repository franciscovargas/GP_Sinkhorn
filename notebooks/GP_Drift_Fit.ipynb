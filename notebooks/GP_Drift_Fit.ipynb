{
 "cells": [
  {
   "cell_type": "code",
   "execution_count": 1,
   "metadata": {},
   "outputs": [
    {
     "name": "stderr",
     "output_type": "stream",
     "text": [
      "\n",
      "Bad key \"text.kerning_factor\" on line 4 in\n",
      "/Users/pierthodo/anaconda3/envs/sch_bridge/lib/python3.6/site-packages/matplotlib/mpl-data/stylelib/_classic_test_patch.mplstyle.\n",
      "You probably need to get an updated matplotlibrc file from\n",
      "http://github.com/matplotlib/matplotlib/blob/master/matplotlibrc.template\n",
      "or from the matplotlib source distribution\n"
     ]
    }
   ],
   "source": [
    "import sys\n",
    "sys.path.append('./../src/')\n",
    "from SDE_solver import solve_sde_RK\n",
    "from utils import plot_trajectories_2\n",
    "from MLE_drift import *\n",
    "\n",
    "import copy\n",
    "import torch\n",
    "import math\n",
    "import numpy as np\n",
    "\n",
    "from celluloid import Camera\n",
    "from IPython.display import HTML\n",
    "import matplotlib.pyplot as plt"
   ]
  },
  {
   "cell_type": "markdown",
   "metadata": {},
   "source": [
    "# Generating OU Based data\n",
    "\n",
    "Here we simmulate some OU data using the EM SDE Solver . We will use this data to fit forwards and backwards drifts."
   ]
  },
  {
   "cell_type": "code",
   "execution_count": null,
   "metadata": {},
   "outputs": [],
   "source": [
    "theta = 7.0\n",
    "sigma = 1\n",
    "dt = 0.01\n",
    "N = int(math.ceil(1.0/dt))\n",
    "b_drift = lambda x: -theta * x[...,:-1] "
   ]
  },
  {
   "cell_type": "code",
   "execution_count": null,
   "metadata": {},
   "outputs": [],
   "source": [
    "num_samples = 15\n",
    "dim = 1\n",
    "mu, std = 5, 0.01\n",
    "X_0 = torch.distributions.normal.Normal(loc=mu, scale=std).sample((num_samples, dim)) #.reshape(num_samples, dim,-1)"
   ]
  },
  {
   "cell_type": "code",
   "execution_count": null,
   "metadata": {},
   "outputs": [],
   "source": [
    "t, Xts = solve_sde_RK(b_drift=b_drift,sigma=sigma, X0=X_0, dt=dt, N=N)\n",
    "\n"
   ]
  },
  {
   "cell_type": "code",
   "execution_count": null,
   "metadata": {},
   "outputs": [],
   "source": [
    "plot_trajectories_2(Xts, t, remove_time=True)"
   ]
  },
  {
   "cell_type": "markdown",
   "metadata": {
    "pycharm": {
     "name": "#%% md\n"
    }
   },
   "source": [
    "# Fitting Forward Drift with GP\n",
    "In this section we demonstrate how to fit the forwards drift of an OU process using the GP drift fraemwork. Theres a small problem using Pyro I dont know why it doesnt let me flatten Ys , does it not support multioutput formats for GPs ?"
   ]
  },
  {
   "cell_type": "code",
   "execution_count": null,
   "metadata": {
    "pycharm": {
     "name": "#%%\n"
    },
    "scrolled": true
   },
   "outputs": [],
   "source": [
    "gp_ou_drift = fit_drift(Xts,N,dt)\n",
    "\n",
    "t_hat, Xts_hat = solve_sde_RK(b_drift=gp_ou_drift,sigma=sigma, X0=X_0, dt=dt, N=N) # Solver using GP predicted drift\n",
    "fig_axs = plot_trajectories_2(Xts, t, remove_time=True, show=False)\n",
    "plot_trajectories_2(Xts_hat, t_hat, remove_time=True, fig_axs=fig_axs, color='r');"
   ]
  },
  {
   "cell_type": "markdown",
   "metadata": {},
   "source": [
    "# Fitting Backwards Drift with GP\n",
    "\n",
    "In this section we reverse the time series before passing it to the GP. Then we inspect that if starting from the empirical hitting distribution of the OU process namely $X_1$ , where does our GP drift take us to, if correct it should take us back to $X_0$ ."
   ]
  },
  {
   "cell_type": "code",
   "execution_count": null,
   "metadata": {
    "pycharm": {
     "name": "#%%\n"
    }
   },
   "outputs": [],
   "source": [
    "\n",
    "Xbts = copy.deepcopy(Xts)\n",
    "Xbts[:,:,0] = Xbts[:,:,0].flip(1) # Reverse the series\n",
    "\n",
    "gp_ou_drift = fit_drift(Xbts,N,dt)\n",
    "tb_hat, Xbts_hat = solve_sde_RK(b_drift=gp_ou_drift,sigma=sigma, X0=Xbts[:,0,0].reshape((-1,1)), dt=dt, N=N) # Solver using GP predicted drift\n",
    "\n",
    "fig_axs = plot_trajectories_2(Xbts, t, remove_time=True, show=False)\n",
    "plot_trajectories_2(Xbts_hat, tb_hat, remove_time=True, fig_axs=fig_axs, color='r');"
   ]
  },
  {
   "cell_type": "markdown",
   "metadata": {},
   "source": [
    "#  IPFP"
   ]
  },
  {
   "cell_type": "code",
   "execution_count": null,
   "metadata": {},
   "outputs": [],
   "source": [
    "num_samples = 30\n",
    "X_0 = torch.distributions.normal.Normal(loc=0, scale=0.5).sample((num_samples, 1)) #.reshape(num_samples, dim,-1)\n",
    "\n",
    "X_1_a = torch.distributions.normal.Normal(loc=1.8, scale=0.6**2).sample((num_samples//2, 1)) \n",
    "X_1_b = torch.distributions.normal.Normal(loc=-1.9, scale=0.6**2).sample((num_samples//2, 1))\n",
    "X_1 = torch.cat((X_1_a,X_1_b))"
   ]
  },
  {
   "cell_type": "code",
   "execution_count": null,
   "metadata": {
    "scrolled": true
   },
   "outputs": [],
   "source": [
    "plt.scatter([0]*X_0.shape[0],X_0)\n",
    "plt.scatter([1]*X_0.shape[0],X_1)"
   ]
  },
  {
   "cell_type": "code",
   "execution_count": null,
   "metadata": {
    "scrolled": true
   },
   "outputs": [],
   "source": [
    "result = MLE_IPFP(X_0,X_1)"
   ]
  },
  {
   "cell_type": "code",
   "execution_count": null,
   "metadata": {
    "scrolled": true
   },
   "outputs": [],
   "source": [
    "T,M,T2,M2 = result[-1]\n",
    "plot_trajectories_2(M,T)\n",
    "plot_trajectories_2(M2,  T2)"
   ]
  },
  {
   "cell_type": "markdown",
   "metadata": {},
   "source": [
    "# 2D example"
   ]
  },
  {
   "cell_type": "code",
   "execution_count": 20,
   "metadata": {
    "scrolled": true
   },
   "outputs": [
    {
     "data": {
      "text/plain": [
       "<matplotlib.collections.PathCollection at 0x7fa875fbd400>"
      ]
     },
     "execution_count": 20,
     "metadata": {},
     "output_type": "execute_result"
    },
    {
     "data": {
      "image/png": "[encoded data removed]",
      "text/plain": [
       "<Figure size 432x288 with 1 Axes>"
      ]
     },
     "metadata": {
      "needs_background": "light"
     },
     "output_type": "display_data"
    }
   ],
   "source": [
    "num_samples = 10\n",
    "N = 10\n",
    "X_0 = torch.distributions.multivariate_normal.MultivariateNormal(torch.zeros(2),torch.eye(2)*0.05).sample((num_samples*2,1)).reshape((-1,2))\n",
    "\n",
    "X_1_a = torch.distributions.multivariate_normal.MultivariateNormal(torch.ones(2),torch.eye(2)*0.01).sample((num_samples,1)).reshape((-1,2))\n",
    "X_1_b = torch.distributions.multivariate_normal.MultivariateNormal(torch.ones(2)*-1,torch.eye(2)*0.01).sample((num_samples,1)).reshape((-1,2))\n",
    "X_1 = torch.cat((X_1_a,X_1_b))\n",
    "\n",
    "# TO reshape\n",
    "plt.scatter(X_0[:,0],X_0[:,1])\n",
    "plt.scatter(X_1[:,0],X_1[:,1])\n"
   ]
  },
  {
   "cell_type": "code",
   "execution_count": 21,
   "metadata": {},
   "outputs": [
    {
     "name": "stderr",
     "output_type": "stream",
     "text": [
      "100%|██████████| 10/10 [00:02<00:00,  3.66it/s]\n"
     ]
    }
   ],
   "source": [
    "\n",
    "result = MLE_IPFP(X_0,X_1,N=N,sigma=0.3)"
   ]
  },
  {
   "cell_type": "code",
   "execution_count": 31,
   "metadata": {},
   "outputs": [
    {
     "data": {
      "text/html": [
       "<video width=\"432\" height=\"288\" controls autoplay loop>\n",
       "  <source type=\"video/mp4\" src=\"data:video/mp4;base64,AAAAIGZ0eXBNNFYgAAACAE00ViBpc29taXNvMmF2YzEAAAAIZnJlZQAAUWptZGF0AAACrgYF//+q\n",
       "3EXpvebZSLeWLNgg2SPu73gyNjQgLSBjb3JlIDE2MSByMzAxOE0gZGIwZDQxNyAtIEguMjY0L01Q\n",
       "RUctNCBBVkMgY29kZWMgLSBDb3B5bGVmdCAyMDAzLTIwMjAgLSBodHRwOi8vd3d3LnZpZGVvbGFu\n",
       "Lm9yZy94MjY0Lmh0bWwgLSBvcHRpb25zOiBjYWJhYz0xIHJlZj0zIGRlYmxvY2s9MTowOjAgYW5h\n",
       "bHlzZT0weDM6MHgxMTMgbWU9aGV4IHN1Ym1lPTcgcHN5PTEgcHN5X3JkPTEuMDA6MC4wMCBtaXhl\n",
       "ZF9yZWY9MSBtZV9yYW5nZT0xNiBjaHJvbWFfbWU9MSB0cmVsbGlzPTEgOHg4ZGN0PTEgY3FtPTAg\n",
       "ZGVhZHpvbmU9MjEsMTEgZmFzdF9wc2tpcD0xIGNocm9tYV9xcF9vZmZzZXQ9LTIgdGhyZWFkcz05\n",
       "IGxvb2thaGVhZF90aHJlYWRzPTEgc2xpY2VkX3RocmVhZHM9MCBucj0wIGRlY2ltYXRlPTEgaW50\n",
       "ZXJsYWNlZD0wIGJsdXJheV9jb21wYXQ9MCBjb25zdHJhaW5lZF9pbnRyYT0wIGJmcmFtZXM9MyBi\n",
       "X3B5cmFtaWQ9MiBiX2FkYXB0PTEgYl9iaWFzPTAgZGlyZWN0PTEgd2VpZ2h0Yj0xIG9wZW5fZ29w\n",
       "PTAgd2VpZ2h0cD0yIGtleWludD0yNTAga2V5aW50X21pbj01IHNjZW5lY3V0PTQwIGludHJhX3Jl\n",
       "ZnJlc2g9MCByY19sb29rYWhlYWQ9NDAgcmM9Y3JmIG1idHJlZT0xIGNyZj0yMy4wIHFjb21wPTAu\n",
       "NjAgcXBtaW49MCBxcG1heD02OSBxcHN0ZXA9NCBpcF9yYXRpbz0xLjQwIGFxPTE6MS4wMACAAAAT\n",
       "d2WIhAAT//73sY+BTcgADZc6inof4RWx9JBRerHZoGTqAAADAACJgY4WQRN/5C6dI6gBxBtmSG0k\n",
       "WxKJb4odMIlzA6Z7LBdP0yzrfktOZlWlQdBy7vA3WM91QULmz/c/vf9cZlKYbGfVVr8YaC/J+vz7\n",
       "MyqXwtoACQuJvgaVfZT/KpviTZMBtB1HfgIeAvSlDFd3043IZSVl8IAy1lyKkfld1wrrGVCzzKQZ\n",
       "s9tXWcGxgw2+cQkOEWI4t2dhvA0vGdrS6KUrII3yhd0s1NySQiMnm4yrEnnDkAEOxG4AURB9dmOq\n",
       "rzzt+2mjXAyqARiZU4lT5nYGoj++HAO5BrzUiiHBRGj87i1CxkA2OnofoTczm6saEyFyqZtEgD+Y\n",
       "zmZQYeLzQvgCGiTl8xUdQli71MK/BWzpHvOjouepAK4TXer4Z17xtnsL9jU6i3XFEaJzf99D79Vw\n",
       "g23u+nS/m/KLAvVxhXrMuMyfURNqSwcd8hpD3xl7uUcEkXrxoUMU4tBew8UlUxjGtvYGHIQ8gEwC\n",
       "cIdP9+WzO/kSlVrgF+J1RVrILRLzkX3bCgo1bK+ex02HL8AxnT4XunRTx+upp4q6DMo74HRSN5L+\n",
       "7eXjADixJazXzdLzYxpp75nD51hgM++5wiL2PqXWW9JuyiHIIz0Y6yoVv1v0KM/JYpDmgyuCohOp\n",
       "ddDXpmOOcQNm0ui4+3RvbucMUORfT4NcqrAA7hVr18tDNDl3FnOyHcsUf6FPblo0TvgaZB0y1Gzb\n",
       "LaHspUiUt0mrtDda6x9MI97egkYWfaciyDLdAFNwGSqX75aG4CV6s+6E71MVpg05cnKDg74f4JXr\n",
       "xytLe7ifDb3+4VV2icabqXn8VKvNNaFLHP06FahtzF0znPlG2C0hL0Ia0xToqRo3pasYiBDzi72g\n",
       "R7rzLHiivdXIXyrTZo9Lfk/83P/tJy7yRnGyEBjgvAc7XjmWhlTSkNtKqCWt8EPrf+fobX/S6zNn\n",
       "H8fyuljkiNfx7rmamBjbh5gLP8GG69luYblRN4+KrUOWRYmPGXLpemEoDDgKh/XkgTpTCX917cij\n",
       "LrDphhfsLdJeEJLSCrV01REDPJnF9upzdA2GMsZs4Zfz7E5oEKfMx7bhnH9/FBCQZlEiiw/wnZfn\n",
       "y/npMoa7yi+jKI6Ikp0XldLv0CUCmE7fxb8/g4ZT0LEyIAM31oENSF3mM0g5FmWd7W0UCo3DnQrX\n",
       "0Qhhq270siwRJ5delCzJrhlGvHQByrIjbV/09ciywmDITs4Chz96ho/9Nrf8uLk40Fo6sLMqAX5f\n",
       "ERFMg29UPYeG9dLSk3FKfd4GN7guXEKnv/ZiNtYGYVFQl2j7F8u4aD4cJyvyz/nifwQpHnNTN31T\n",
       "bX3FOhJOj/lS8h3dgsq/fq3aGZK+AnMoGTg0m3thO3F7iP8d0RTXKItZW5cO9INSqgSCzYVawWHp\n",
       "L+LsSAi6ffFaaGhRxPzFNat5tbkkEla3/sTPCEBfiD+1Eh77m8dYKCE0cnENL2GRtX7hJntzCAA8\n",
       "+/+QyPctx68sgBcB8vG8zxpOqgJEQZoWxiFnd/2qi7SKA3dErqcF15jfOCx8yf+Xg4O1hq/J8Zcp\n",
       "Om00zahOsu4fVJlGA7HZcJYz81IZBGnd5tYF8Vjf6OyvY0DMTYcgP1/B4Trta2kQv9NGj1C2OaE/\n",
       "MaRlzaiLFfvbxtW5vIei2c41v1S/YHTCJFs6efRydNfhTPuv68bgHUqSgvfWu/sMcSdQbGrAIvPb\n",
       "TJV2b/Cd2WoZAlWVJMPvp4QBou6QS1gvCwo71yVpy6NLAfockHrQJHrlu20TmP5PbrBQPeUfYjXC\n",
       "4dL9dg+nM4h8WgMe8xnvUKbCvvdsczwxxnGxn8naoam9BtEmp9nViZdOoDpOY/6ilTE4mOyZErCh\n",
       "iBJQqIe7kSyWhemgEYYVN3yC2RH+jYNwbFVqpm/musC9Yc8mW3T2PeANUKV3g1NkaHxoxE5JgFD4\n",
       "EMXPqTGMtdXqr2lUWcPXNf86UAPQi/ORabhswT+CGIQ0nOCQaDOSemay+Eh9+RYNhFYIZ1AzC8hd\n",
       "JaK0ESPj1ce63KFqaB3wrLXq/YoLgQaWMa6eOkohrEd5knPF2kafKM5VijPw2IACNTYK6m8TBIwM\n",
       "9JISpQ4WRcCoKff2YzuM9tBsZ+AJvMcX7d2R3/qWXx/fSNRjOVVBi+GuVSYe7bkMkgi0MaxTWzbK\n",
       "h+rKeN7MkX0y9anW/buQptQEBE0SVl4I1nzuXKGzhj+b7DfrV+JOfbIqmJmP+T2ZbnnfAeBz/2dt\n",
       "0H4Ls9ZQTqsfl8jm0ASIEd966EwaAt2AppBl6bzbpg18tpKeA0htC4M0YQWpI8REnM3xEpNjIwe4\n",
       "fvIM2nUXzQchQZd3z5uh0qHR/Cd1oWHzA9GTtlNi3Lnq+2IqTyAkX31h8PE1mhcZgVeko9W6y0bj\n",
       "S6jNNt4J+3cstuxd2sjUaqrgvIZEj80IAeJHBoQDny1uxgynfJIj0ZHrUUHnvDWRXhP2h+nWEjTW\n",
       "uaVhw00jMLuog80SYNLHpHXppeslnuRzcaThF9/J7ifd0mGMDYssxbBq6Fzys8S5kNPWyXKDAn+6\n",
       "laz19L6KESaJfXfpk2s1Iw5faDmPVlzvqsZklzBSbInhRkkGFESUdGfp/QzT9dMJA/7pXC38FARb\n",
       "uFYami5+zDlarsJIVhzxz+ijI10YA9zqdxNfzOl4vZo0A1YhfDFyB0xE6hl6vEr7jKqVaEnskxY7\n",
       "CoDN4Qhg4QghdgYnZhoLXF3bLEn+uoeqv3iUnFQAW70Nw8ChrN6fLz66voX9Bh9NwfFW5+RbSKKh\n",
       "9JQZ6Ph0Vyv/KgnCvysTNPn/qo4aU5/EoLklwEVDMyksB5NrrkI9b8aqH26G4TAe49pEmdrVJwLb\n",
       "MoaE0Jt8QIbtzaqD10v/B6fQM4rU73ShT+GT6BJAeVSTDu7j6fes3ee79YoAGNTKNOyj9XZMFNvL\n",
       "AGazZgxWUjgKy7OtTt8IDWQzwUXDfv3MS25cM4zWHucez454C3cwH+Q39HzH3vZM713rVJWp7SYH\n",
       "ANq8Lfh4Zk79VqapjiljEQIfj9q7CPtTMzm6G8YEDssehGdT+INz+B3DlUH1Jq6aw5x40XWJ++J0\n",
       "LAMOuIPLv7s7OMAJntbS2c3JL+QdvsDaYISFFbueHDnGVDtX42jsv2yekpsemPLRXpqi5dZ2JGrn\n",
       "kFOUtpS/+E/nXfev3Yl0T63QjKVjkgKryl/Igj/UOc8U/H/80g+FTXJ+T7TmpkQej/jB0K0S1kHg\n",
       "ydfC/EM5OD35zXCO3uyFsMKD0izARMbt5mVlxSAQnyFbjecM5HTtzcpgIM4fVJxT3+V4wMu2TwW6\n",
       "RrlGJ2Yccj7wwSYqzzOwWA2PbgDpyoDhGh7Sa5Xq2hKyw5RPd7iGDD8bZdgCH2Yr/VJqMTvSQqv1\n",
       "bc75b398cdY8uMnaPsy+89ZfKUvdVRrUadrMKEHRhYcmYExCSPsrJl5dkNtgow1AOI9X/zD2DqS4\n",
       "wujvPSKZsQBM7g42RNc1jWatvUrXSpnU2y7wmMmbm3PEdbhyd48vfJzaUr7N7r3yj6ZSBtBvF8HZ\n",
       "4ExIh3c+TMDJ83VaNkOz8gtfaW+9mj32NlfvsPlvoa+88MMVasdxgImAe/cuFJmOn4i32zoTr+KB\n",
       "wEilYTh3ACVWxb6bf5E3u/oHS/7qRiJJsHNmnMtWUn/78ddrCXp4KsN0zOKeSRFvIGUAZbclnKAE\n",
       "t5aK90K6qjNsRehfBugUzsqWzuAgj9nw3jRmcR11L+uZEHQSiDy/JuKPGvebjdOD8fkvbGXM8ivm\n",
       "gjPUVmnLw+JtU3fEnK6XLz/o7lruYnj6iW7yzejZDsmuJ4TtJHYGAfiTtqhN+iR0va/IxTSGUArm\n",
       "OSi20LOFuzNyoHnnWl0adCL//BXav51b8E3VMH7zIW9003JRu2yTo9f3muVrOQNTR3toH/JMt/Wi\n",
       "RcXx+YKThe/t/30ABSFn9UvwCqrs37Pk6LPGv4Cmp2OUK3H1tFAINkDHeG1ujSy9hNfzExcB3Z4W\n",
       "Q99c4+UfG0Lr12czkvHtKkus9GJVYtSYlYOloe+1fnbmMoAje8VJMFYr/2Sfju7usOkQmcCQyQBO\n",
       "Q9UoLzRZxmzZFOiECP1XNUfzABPAR5uGBlx02jSWTROe4WCKVidS+9vPdPHOYlP69Mk+PZxnR2nU\n",
       "vl4qGotHR2vazx3EA7tAG0bqTHIds4M85QfNMcrbmmQoBmqYYzyto0o+BY9ESTQlkwU/6ufnHtUu\n",
       "mD/HngMK+5yqUYvHFKGhK66+YC7eDRP943w+42LMaoP5bqg2sEDZd5SZLISZ/HmC1h+wC8ScOVzZ\n",
       "ElmG6A+tmCDQiEC0XYOXrHd2ltq0CkNxE8D/27NthXIZ7B18OcJb7Ng4TOMOI5XmczQQrFOrEkc2\n",
       "rxJouAMrXTzmHqwI9joH9Fjrh7dkQwTr7xsKVUky/DAsKJUxlHcqWsGdiEmCwIn/0J4Sba31D+hn\n",
       "hVyRwesF4KVDjv7WFWSqMtwo3KLJCi62MzaYuHqvkgUFcXC9s2ImmIrTEhl+MWIA19F+LdN7ZvrP\n",
       "VG0ORGjlkj0PC24tMZpo5pJ0OwDGyeKtFmUxkMXussVaMp05u0dZIfHIiSnAp0UqTvV3lXbKByP4\n",
       "RczoIbnSKAY3lwQDo3KV7c6n9K7e5pRVJuKqnI/nyGcpYWlqF3I+2mfLvmgZOoj3nWEpeGJBe2V4\n",
       "8UegmojUiW9qzJ534kI/vzfUOE1UQ2t9V9on2/m0HAY4wb+5aZBeur6UamrKc1GqNNlhjmm6FYMV\n",
       "TeVAPRqAop5MtsNZ95M8FbzoTtYGj2jYHN3KXWbSVgQWgzbBjRJ1C+iy+2KaHgTwAFLj/iezMOZv\n",
       "ysP2x8zFNAftb9KMcQApx0e/U29vfbSJjRjzozjhciOQOjJJ4hcxB3YYW6avYcU9wdTR5453tPqy\n",
       "SfNMu60ecf38z73Tf9XPs7uZx4lMv0Bh0H1cdxSeg5m0F6FtgNtaRFCZUSMK7EcvmxxOhrNRkQei\n",
       "G/9ACF9Q1vODQl70PeIWpO3gcq4Ol+WJKMrYvdJPslMyvlqoP0cDtlBsXJQ/UGITpclNK5faiDxJ\n",
       "wdexbL5+HcZv0IMvu0/YrXqxCnt6j/+QlFG3C/uwJzMR1WhEfNzs9e9D/2fPRLcTEg4LD0wVBcUJ\n",
       "8wAS11yrF0vw8FOTyT4YmHeqH/ozp3ZxeoXnDWl9euO0uZK+3L+acYEmTt2h0mzaDw/RR48LySn0\n",
       "nz0MsabBzEbH2mrkyWsOlVpc5yGZ9gCvf+MPJO0RGZ80pAcDxQJjyLEV5e6YfR/eeMVA8d6Em23X\n",
       "D3dCPdxCKOgqjyyUvxNIuv/qxnD5RecS2brSM4NmwetNrdX9dyqQJUkTqTgvmPGY9JXx3hUbzXdm\n",
       "SAb7nvyDp5FSpfjXynECI8MIZDdz1Hb/ui3WpbVUsLO4tbKhVXvb3XHNo17T+l1zr5ylncIzmSa7\n",
       "VS9jkOzS6M7IZUI4Ltr+LE1IL3fr20IOS68VsITTQI31al8TcXLfsz4etP7HZBJEipPUTKIvXe8l\n",
       "C2Yly/p703Iu8UZprvKJQSOldKEgrNr6i5M6OgV9T9ZqsDT8LaI+bGTSwbQeqh/PyQUcF8V2Pjzo\n",
       "jBRR9z8dXnPS7W15hPkPt5flbOSLxzyn3DkuKDJpoLTMRj8lx5W8k5zFz5SMcMU98eoKcSMkSP5Z\n",
       "4erlEYRq83y/o0ROd+SPGnfJvHIXCXf047PFX8/TDF5akvRUayG30LhRnBw8DayVGSFQxQjTB2AI\n",
       "NK2GCRHM/RXtTLoHeY2hroKsDkAG7VJ6LbXU5drF/Q/4FbjEt2zjjFwjxTPKzFkY+FOiQAHvhV0l\n",
       "BvurcZczjWomx1e19p5Ve73myMQwjCkvykeokKdlmlpXtbrS1kzy/NhkhKpI2dPGW8Td0tOv/GlI\n",
       "m9OvWFO9/HVx1zLHcya0cYsgrh94j6/QPxwASE7+reexChOlxeR2jZM7IFrsr4WoXONLxIMxqNT1\n",
       "r81RtW3/W+CWTs+WrgU+HalPoiAjaE/80vZmZkTsmnO9HcfDt+WTTnc4SGraX6KjFPJZCfhKpMvh\n",
       "lCCAKCVMbEmkSLiR6FCJqkoWQVFe/QgbWdHJVhg1ro9knh274e/9gh1Xg5To47NnZXMMxPOsr+MB\n",
       "U3jE8uqY1i+/UwB0F0xq93EnNG17UF+hEE7xEU3worQ9zJH1tFib+i7/ZPwqJVgSbyZBnGUljyep\n",
       "wPriv4EPsif1/xuylo7D2wuRQsc5ncK78A6ea+NDqThypiSQ8PV99PI8AE8L8cGGwI+BLFVg3I8z\n",
       "Z8QtRGdVZFOn6cLAkCNckenTtPPO2UA8Mmk++2Ys70N91rXRsnq+TCXeC/kH22JOysYtluIhQs5S\n",
       "Vf4aonqCwa2MR/soTSmL+P4O+DBwRZQCwBm/ZkX8An/8xvMMZ9UI4A3M8ZtE65HaScFAGy79nDQS\n",
       "31Nk7nGMHFknhzDWcvdFb7/fCiE8SQTY2076xR0BRit5PbG1yQUWjsPbC5FDSB8iBRtZKrCGUrQn\n",
       "qEpKGz6FJ/+4SpooNEKnWrGgvfBADJTujc0IGAAkllg3jk4Oobi8v2o2GUdaQHq61DCLkx9uOis9\n",
       "7XS+o/JfxVArpe/gQd6ywcWgAJiIAfRAQQAABy1BmiRsQS/+tSqBoEs0AHGJBv92vYzg+AN6jbuM\n",
       "WFEMBJn/AysInLQchXZ++ewDihHiDkvAAswQQZNu+NOHpupsDGG5D6uoXZ/w7WSnpYbnL9HfO12/\n",
       "5h5PGfrb2GvLladZVp9w+BV3pab6fUl/uhhPQmIlQiF0heb5Og1ZaevY8w22Q0hd+AMMk188fIdm\n",
       "SLiQkmtRyKnIh+zyFfzd4OIUUzAQcrPPA6Kn50cZRFlAjqMlFOOUmY3DNFUIYPL1bJiWJzyxKRe8\n",
       "tmoVxxnbZa+CGo9USQ8l0u8COlbBUJLFn2eP44/+PFazZNlkniQRlt8c2sMSaWKNKaMolLuIvlXj\n",
       "J6t9PBQDuSeiyJP2vlAeRoN2uvGoiUa217cliQdSo7aO1BM2dq7JqcgJwGXWRcr8qY5/ylg00dJi\n",
       "fU+ffHSFjw3dfb2iSHRQfxskWyju7wOPSAg9g7mnIIJtP/t7u/zg+SVnXce4brBl5qv6ElhCBc6v\n",
       "xUpVfdo+h5sPl6vkijSY0RR36SUPQVku+HhWkvNWQSCV1Uc1qnCTw3gA9ry4YqdKD6bXHeJg1MqG\n",
       "cGcqoAcd6K279QlNKMSs3+1Hju/cv1ZwuOVJ2oSzlXFMEgPi4lEXdUykq8g33YJUbXvgf1vrtc04\n",
       "8JG/vZkl6qZ9LpKip4Wkrbabt458RHZeCPcfg5FIJzT9vtuaAjuMmgXsYjxCGh3sq9qZnBcfEk1u\n",
       "dGd+lAuOuZ+oNhJqDaY9DjMjHvRIsV4JDba5dinyxcqS3bX3BDjjanOeNujycHDYN8+6aLZCvjG4\n",
       "DQabEcu8BNcPVxrWj/IeLV2Vgqm7WrTpjmcMfzALRTDGLSv29LSo/roaNZzybRdNAMCzv4uvJsQE\n",
       "RCxF2HClyN4MboHUFIs7+gaPcR3ATD90d3DZEZjcCEnKn49ipfE3lJMgtxR/voQmBtw77u7AW3I1\n",
       "h8AC5UqjGPycqYXZEj1jHVotcUrY3N/SN0rl8efn6VowY5nKO7yhf+nyadzSViL23q9KNjDi/gZz\n",
       "LNxngArD/3PKv5buZ1YYX5yNZEq8Fmp15IWazZc+LMzOfPOa+dq5bn/+HX0VkEya/ycPBBb7HPcf\n",
       "mLk0Qe5dTYOb3K7s+T+C+6SOYoABqppZQaUMHZxnpx049+2QDRoXYek6+zXIODuY7YTj4q89g5vR\n",
       "woMpotqlgA1+3Ho8lzHK5rNHRx8E8hfLPGrZHLa0q8T8qRSisLimqMZTDVqKAGiJ42zzzFbu56FI\n",
       "YTC8/PdDRKqP4LnIq+sLKMeNDIyHB5UGCktLkF67sUS+BSW6xAm4Lm/Q6QyzHcslUbFpHTAOQnwS\n",
       "Ifm4HS2vsnNUF164H6QvLRwg0WVxJt/xNAOlhjhzi7hbJhRPmuk/oDOyQcr+xhsuz0j4lwe58Wg7\n",
       "Lr8X1BTO2hnzK0wZ4Y9tYNtV154T88Kx0Ki1M/rxSIUO7SvBxm6YC3StqdojLfPoksFrg5H7fRxr\n",
       "40U5l9BCZ8h3lo29Z/dR9M+LMYb4crFWvi4pa2GwqbdE6SlvW9572dI8KOMW9QqgJrsRYCNUZzUr\n",
       "jotjRvp0wzTEKZoDqfe6GPERYdu6z7rS/AayeeIJqvDvaFPFALfTc2E7iCpJzuhE6xsios6lTQ3T\n",
       "qGJiByDXtPVRD/yKbeLukOU6H4XQUpDvALGEBWQ3YAeT15jQTKTSfbFbOXycv0n6YLILYtbIFV0g\n",
       "9R8jKNX+s++jK9OiYXeHQVfLDDcqchOkaDIOyYCGePQNqTvKKDv5c9bkyoN/PEjJt7q+v7n/CYNj\n",
       "qlSOBejB8ZHqv4hjpkhJPp8aq186qGp1yNufg0OyIhuMxJKt/UYGwm0e7zmCLOHBZBfA0RjcUTJH\n",
       "roT1u5wzDGUfS+LgI5dkU1xdSkyUERkuhl4kX/5+VzggRErzCS3kPHtVjk1wnjDkLYFj1QjAVP8x\n",
       "QSa4YNVMW5+en/RTCmcDYgON5RI7wI2XReg66iFR8lctUCKZ9W06dr9ohpRpKYdVx+bJbJwDzvj0\n",
       "5d7gt0rIuYOl8lxU+8ulxGxBe2wb1YO51paWjUTM1xkgFHSbMTW446DHLBRaZO9juD5Izy0dmWii\n",
       "kmxorN3bJAuGz0tFNOAnNIDcdYqKAmZ9TcRchbJxqg6imoegV3gmcVxvprlnXVV6+9FU90CV7n9N\n",
       "Uu6Bp+UfkDiX6GG4wnr7IweTzhS/SRw9PALPzGNmEhIGmoUHlnm4fZk4okYqjXlan4ROTE7iLREm\n",
       "f2H/qwzSHtElpxDzL/smrZMSblWfViAbdz4/EcVxcI6GX1dGNg/O2EVEFAxjhZOSvomxeQ1UElQd\n",
       "Ii7XdGBROiZfofFzL/3ALasOQjwgImKYSFtjyy0NrD7fbGn9iPP2bB48+aimkpBLjXcSegyL+frS\n",
       "t1vVMmE7NBykbEwiJQau+LArA5BNk493LHX8/ebha+0gnl3xNKdvRMPoAAAHA0GeQniCHwBjA6QA\n",
       "9JgATraB6mKpQ0l1qUfRGNNkK7oKsFHLRiaGuLQjJlSH/TzoAYbGvBtMPfH/ZQWOrAIUCrS7Ha1V\n",
       "l/SaL1kucAmElMURVSRzjCuOXmjiyXfDuggaHfFReJH7w7b8qlevtMuRIxc4kuKWqtNWK0LMg1ty\n",
       "Bam6BLwYENYsk39TH3yoZwuEwjR00DNItiptDHyU0uxYkwlF2TwpAU4DC4iQ3jRCEDuL9Ihn2r+F\n",
       "rZR67XhziOtw9LxM0IOegyiTDY3zPjVs++fCsX6goebogMF3Jh8UkHZBy2txF7v8zaKLf055qNSa\n",
       "lRuvbwJ4pm/0R6e+LHFpvDpRvYOcgfn9SKGUmEuciU5Ak6UVmzOCejzDKqFZCLp1DTjCn2pDi/mO\n",
       "RLIaf0PWe4lz2ZOh/ZTc+gUmjHs0yNfHH3W4Df8NBaCu1sLb5UP/ThnYnCsYlA8EiFVbBpW34V50\n",
       "lkgUeGbi4+nt78t8ep7YroGzyQ9I/JNhhcmmYQT5G0QXt3q9iQjMeiw4yEx2LIFZd6ritGITXlXE\n",
       "uBMmBa2rknxdn/GUVcjbIIytxlRVqzHRbP8DWER4qVDbtGmWmHC5Ig+BEY0WCFqh07LJ9NDsMH++\n",
       "+c/nuiefN/nVVLPKxNWTbUO6lw9ld2dExrcaoRZ4b+ug8idiflmfkSf8qWMdzS74YQi4kZsu9yke\n",
       "h4woopbBcGbbehKqZyEu1VVi6jzgSwaFVfoNRgsjkHRzmJ6/N00Xkfs8MiFSsVbN8h+CPuhuLZoK\n",
       "8FgZaaJ3ZCKiJ10LVamZrsWIVayal7do80jO//Gccz7AJkKg4IVQs8hpbDNTOH0d83JqcDUH8joD\n",
       "zzXHF/eVC9GmTJZSO7BD8FdT8xnygxjzVKdvyYUVhiw9K1v+p06ypD9275oq2KR6GV7tu3VEl5FI\n",
       "HlsZoQKbhKqi32pQNPLhG8/5EmBuf758KAePeUQKcsw6dx8OkHXGJ97aomky6NCA3WBwLR2jdJfZ\n",
       "H9sNHSKCKQw2GAoHgDrWBZheIzJpGbX6TBfCzzl7nBtYFuGwF4RfLlCOHO8Oj24ywtEHk4d5OstE\n",
       "vHh9ApZdqjYsuXDsx5c8/gpn6nSCJcuotQgLBamkMxIFkyWuOyW5dRPLkxipnVD+X+w3FqseBvwK\n",
       "Ax8l4PschHRZG4BtM/98jcNinRere/s8x/29LeQI6S5Yq4vGh8GTvfxCj7DdQV6cs0y+pVqrbUN4\n",
       "SfTwrCWyHc9gGavwcpW7zi1tcP+rS8nkj7R87YF8AuDPCFeH2/pGv+1GjqAsPvv6kq5tvXgfk8DB\n",
       "PeYd1Y8rE80po64W1d5XWRA1nY5vxsK76nhTK73ScXHl3oswbIp7QkaRRDtMTbwNlrq65KY2YIJZ\n",
       "9Whsr90aFS2vv/OAjL1k1olr24pZL+PWAF/HWFrdou5ZyNlOV3wyKoxxYGfWd/XkYfS9vILpxYEF\n",
       "42Wcuunv4OmL0Mxpk9o7DVL9rcDykH/2U/VFX87h8jKSXbwH5luggAzSKy+kAO7EMys6emeOjV6Y\n",
       "ilCwRQwLhDG3MfnXsXRklL6bl/T8fzRltalR1flOK0aeMCVtNHA4UD9VBRVdDfoXLcQ8aN+iVt/C\n",
       "59VNrzToHJg5R8FFYncrgTAPtk+KUZ4eAeLA0zQENRLM410Jp7p5mYUX1cDScUsvqGTAbi+hibvA\n",
       "zScwcq1+86E9YndQTW3U2z+zimh6eTDPAsvMCimMbEzvp+uXcZqKp7ZdIC4Hfbv7OOgTBGqPn4hG\n",
       "hGRMp+OdtJm43RZ8oqtfL6cdp39i34MBTLYoJKoPAykhLTUuPNIHLvi/XXrs6/7+BmU2sE3+wbez\n",
       "87P9u5JrdpmXH7iVij/sZlIpCVtU2fMOwxMonspW1GJv87CJdYyZlVVQqly9qTYqZbvMWSRt9It7\n",
       "BDRVwQSYcEjcy3H9ShEOsnc7oJzyAL4N1iFJKTHpdUaWjig/Hqs92Vug905w7tufEmqdtmNc82dp\n",
       "aGFM11pKkFnri0stVSXrFs/rI9d1Jy5Has+UzbT0wpWgwjieZdZ+Z+ZwK9Qi2Ql/EYO9pXC26PAW\n",
       "h2GmDwHRe63iVcXcAGA9l2vpcB96kSh7Etg5G4L8j10RMp4akiivBJQT3RTEI9Cw3b2AJqNYRsL3\n",
       "MRH7rv4uR3jp6C3rlt+GfLjkaMoDK22sC1IGiEDLIszrtIHVUAn/yiNOvP6tyU6BDCpwr0MeabDg\n",
       "4GTsYFfE7tSj6KUyJIXALAMRJvRRiESq6ZWwjJ49NbJMYHkeNL9qgXs6UrgYegutFmHZR+/Jl+SM\n",
       "EE3vJkzdZ7q5l5XW5LrM0NnhBrT6QFGomk0GfTQUMiCreiqZTgWk9g3r/UrJpCrAABOe1A6D241w\n",
       "1wRfdlHlxXImtn5ZWMiogYEAAAaVAZ5hdEP/AvctVR6Il3kdkUgQAJq1Ls5Inl4J8RqTu5Jd7mWq\n",
       "Laaj+FwO7Ej0XYYQATq52VYWNdfOK1mdpGg7MUSIxrxnfi336XR2ieEIEjpz8Yz4pC9FrxYxbstZ\n",
       "81/BpaQzc9l41IuoCzQOZtNdCloM2UgywF9DQacxFGkhNZhB94JzPIW0LMrTsxhA2q8B3OJUMmEm\n",
       "UZ9Bimw1dZHHneBW3a0iXYjyCBBCXs4nPjbxeMWmoaPpf4yQVLRKK4G0FJQHSllvlX+ijZzKuSVY\n",
       "f/3oKgW4zpxkwJtNwp/QEJD8Gn+oNTPe6QDXvHNPh5Xojuezy42704X417wb86o8wCPzDl1x+v6p\n",
       "ETcIbnKwDAaTRdzokpmpBpCw70XSQln6No6tMMBLvKimd68wmrVDaOWynDH+PApWSj2ij6x3NLI2\n",
       "Cw2WBpG1oqYcCM5jOkQcZY755v5BNEoU6YCpq6uhgrHwb33VZSCgdpuKL48cc1LYey/LLboJUOuo\n",
       "I9RVRIu0qG2Ggi5dLMwgS3anFFap2GuvlCBdcL9wgb2o/8jCsDPm7Lo4MujchHKtqcPNM7BhFIte\n",
       "6JGbNmafwzosl/i3wtozXC1u07fnLSvqfuIOHUU0Xrh18zcGZksu3WWnNNlSPSnN1Kq1VjVfdYwi\n",
       "oRuGkyb2j5iIPzwqp77H3e7rkGDg0WsZaD2D7nChpN3x2G+g+GfT/4U5IYNFeQZ5JwDPy/WkYs6f\n",
       "HoEFmbE32OnoagGT58hrTOp0lgO3TS7+dsYTocPhQXmbjAsn2Kz7bUjlCim0W+p9h9a5szHu4W7y\n",
       "CD4bfoamqLlcbWItRnXfKjGHtURaoiHXL7oy0zNaYlNZAdrEmQK35N59fd4iK/5aeRq044nV6pUi\n",
       "Bte6xWkMTmw/k1w+1ymSbX14f0Tn/kIp9l9FNLX3Z9BE83eWlL3lGqGF+oQerYBpUVvkrMqjWHnW\n",
       "24Z3I7Tyd8TR1jI++LXHblpWSZgCyV9c7Vyox55JEZtTHsZF8Spv9EgrnS0PYK8eU7wIFRisC38g\n",
       "LvypbyNbVhOIYiKlXsLzYlj8AAObsq1QZhBVE/PSJpg+fqaCfYdbNmtjy6puEwMe+q3mPhFRSan8\n",
       "Ta3sgRN/bvoD4nLCPgotFB6EiN0Pjlk16LqP9PoEVwqnsKh4DQ/N926yTqFbw8u9sGJrGGuJ5EsQ\n",
       "a/OfV/0Vz5UtFFGgTuCiKzPmY1jQjDUnq29zX0Kl16uowFXSW3bAk3BTP/AGyk9snTV2l1v+cdYU\n",
       "3GzSqunLABKfoe90NuLdB75OfMZN6LOKuKkHOMI8jlP3epu+eQKzb6NGF+J5dxmYWS+lQipqkmq+\n",
       "tt90tmLX1b++Nig+hHbI6GopijFgM75wnKxvOfW/WL1KdG8rqGvkIeTmA2MMvoP0vcxxVMRNic+d\n",
       "6VAXEtascwpuPuwv6UxN2i3sy86oReRLqPXJ3lPllDfhhIuUKIeXrIQjurhBxR7oQXyliI29wCTe\n",
       "vKtlUPUJ3iIyG4NJ3racVFsQUZWopAh1xRazzB4D8IejaBR76ufG4FgXWraI6xm0R+U911jLug/I\n",
       "T6/aorCUMwZk7me6Cg01zUq0ox7C8Ev2Fw25OnhAvtyzEazSTTfdvQJINpJJ148vAbtQ23ZCbg5y\n",
       "BrJOyemaLSjV+dcfvMIpf6gmLHwu9hAXkCsAePVCH4Y64QSyGoH2021dakHsAUZbqQ7SNeSVY8gF\n",
       "c5QmzRXpHmeaHTCBFoArRNzBobxxgImzRT/LEgwKDkvLqcGWZnXYxhcC8sRJPChvPAYqw8gqsTVr\n",
       "1hhqH6Dy97x7hUXJE1zRVIWYophfMSDmmrxQdz/TRPwdOm2K3ncWSeAUJu4uah9okI/+hO3UDZxa\n",
       "jaNOaZIeTUB988LErPFEbdTf6TUFFS3M9p05TuPb+RD+v1TYuBCxSKCrPLkMxhTNz1zRSOQDLmMu\n",
       "tifgFz77NAH7qD4Smz/FEXwG+NtC74DBhGsRK/KP5EMqCv+tHhipITzwJXb4ivpxkNpbSNc91Lwf\n",
       "qLK8vHVEutqyTQg7JUQ0EqLT4ZyZ73mL98o2v+9NXvBrRH0MGuoycDOkObYZ+YnMYwUYLGTv1iVx\n",
       "XyXDQQbE3rl2+XXjOQfaX9ar559v3YZa8GrvgqvFb+jbCbQZUaRQCM5uzSXZCn26HLAOsK24IFv8\n",
       "BA3esFG6h7V1xc2fPgJ9+zlg0oV2VtdZiudG0AEumngsH7omuYEK+gMWQ0fje2ZZlKf1noAAAAZz\n",
       "AZ5jakP/AvUhPcjcXCaVDgAmrUuzkidNPiC7AJt+ZpKfgJoQCi7F/YSbqRmpluRP49zfb2Tucxtl\n",
       "A4DXmFP3ljJVU1v7w+d3pCWuZO035tDOxblPzIFvODnmqXhQ3Mqw1tVZcNDvK+Oi++ieYZKurLMB\n",
       "4K4kpC38lJcAsVTnFzFmDXVOixkDr6m4wslpnGXtZRTz227TydFdIBu+fpb/2AZ8o+/dXwk133Aa\n",
       "UCZ0aL5CCmfgcYHLn1H70H+R3IWmzdL3vKb6rMIQC2q9ZfKwsQPBc/BKb2uwz1dr+I2XTGkcFpv+\n",
       "VgTVXyHksmUuQcHngZdTl8b9LmRq6riYutkA4KeRqqJXQgx/q/Lg3G6AoQY/K9yUUOgPadR4+AjH\n",
       "lGIU23TbFiirF/8KHMB1tAzrWKy9f+LWkQrPJZQIbeyoeo/sWqSYi7yCtTJDpTQgXWtbGeCmGJxW\n",
       "hKE++A64MWMpDd5SdJL0Dhr0vfqZbOPJXk4BICeUkuQBpiNAgCN90gdTsS9yGB5TJcJCqUzxoJu8\n",
       "oJ07KvZlakD8MGoJGYRyBvxchTTmsOXqDnFlv65/x/lUc9u+5WASHexWj4OW5jnJ0LG5F7I/FuA5\n",
       "IipfeqXU2TyTi6cpH/ZJOvwKDAIbb/1RsvgZkG6V9I/oNWZYe9vIeC2f2a3Wtv2YhsQgbbzoHXNT\n",
       "uR4By/3R45Ly/L3DFuoSuOhQ4agTH+Vl1Y4Ue36xQ9PACEvyE1UXdv7NSw7FeCcqMk/xsEJHkQA7\n",
       "B27VZoRXkoUog2GsbxxzNA/+ahqSORkWaOfUrb/IXyScw3/W2j9JOTxH44lm2Veb0dO7KNpIQRj/\n",
       "Ia0XOdK3v2nafwjoaphITJRlOxTqLRYp/S9gcY2tZe0rAHtUQ7rBmY8dHio7w/DEovOqZVUaMOWS\n",
       "tkumxvKUALbpE4sZ4d2EKepSGQLr/Un3m8gbpax1+WABVtthQrrqa9wzjQilFvl/yMBt+LuQuPRD\n",
       "g9UF8gUpAkWB/2UIvUsB2AGoV21LSm4MfbWpdD00gpQR0PIkSgiBxTqcjdj8hHsKlWXyFLdMLwgX\n",
       "apQ75k9nuavmHL6RDSQRKcI7IO57IO75gZPuGdJDN9Lf1YnICiJ/0VwjrZTPkk5Y2wx2/rpyoCuV\n",
       "uNVE2F3nUGk1FLqXeEnhmrMoSOVjpj8Sl3TKfY3qK9d2AxpNz1vW6+gdv3Pz8n1/gN8fW2f5rPPk\n",
       "N7xkYh1kv19erIfkCA58LjyhoH5TyJokByDQ2rhqr2p08ULJ/LoT7jshKWNxMhsxq0eZrznJ5Nm7\n",
       "ABc+ozbumS5KaKenmtDKPtoAPrAG7E9/TwUtPqaLyrgBwVT7aYQQ4dEtyRyV3JV3tIMhevxWcfMo\n",
       "S3AvTUQqXNMO6PED5uNElLANmZ9wVGh2BH4UoiqeZiGXEZZ3iWvOs99SS9GhaZaWpwBX2TjI6adF\n",
       "fsCTAq0NCgxF9Rf0kh8+kVYZTtqVAU1r3Yl641SBgzsVCc3U5ss3t+ooOpAwU8+8ocTyomrXs2Pq\n",
       "VI/1J0GeYw3WJ/DtWvxq3rRN7yR5ls38e/k+CqG8L+RFbXF49ba0ruCz+hMWy4Xtd3ukFVuACV6Z\n",
       "9O2XUEHqWUF0dggbSsDuYlSwulKl4tALKoZirHxs4KKx9HdbEyY6ySm1krN557Sh/3FA8IgjE+Md\n",
       "iFXDWMpRvKAo81kJuObxs+AhigLc0ESMURCUdlc0D5F+NrteTDLb9L2hxM6ntVVALtXdRZJ/2odN\n",
       "7cnNI1p4J2L89lYUyTWqSXkTm2mUSNWuX2Uq5ITy8GYONoHZbtlVHADO9xMLPKoEX0vl6tQCbISB\n",
       "fFIKyxHIVT2EhY7iodUczRakKXKWyJP4zG84vph6wC6k3Q4CYE5nLJmuCiwtBRxCgDNceYnETuzh\n",
       "v5m8SNRYxsr3PfUXMgJ/fUOgSup4kBnAbrw/nzNRVPXII84sOlMAaI8JDu6ZpijG4s8mTRjntzxQ\n",
       "XQiUAE65uN+BwKZ500hQVMVmCgX9j5xC0vUI5xdhFE74iEmbKcpTIiHjrH9W49XmxzWFXnr9I7BO\n",
       "2PQdWDnUncNEtv9shgfp7+BWBpuAbBzGBqIBb72n9wu/wsHVT00puwfsAqPUmoYP22/AqVwyiBas\n",
       "yqevC3J46n9ZoCHVg7VH1eb0HPwYXm/zlNilXo2u5BjHP1GHm7bYCKB8ki1BmFv6SolYG6kMCQAA\n",
       "BvZBmmhJqEFomUwIIf/+qlUCvdfdgAAP2cz/U7zOUzs0hQuglM5ceVhQ0X3HrnCbTjtY81O86VP4\n",
       "fbh54/tbhL2rVOoAKe5YUFQeE6kIbuJtZESi5fO1fAFTW/hKdI9/nwjLLUckGi30aZxq/dwiwhLE\n",
       "LKXy5ps6U77ukkdI0ZUl3KwfnMB9q5aX2Szs20OfVoGL7rME52u0l/tZAvO0kWp66D7vHPUouo0q\n",
       "VVlCVTrbgu6Jb9+XzaG3FpHRGSoU66k9HG7iWV+8itGQawwruki7mZpNwK7TEAoP3bxBpObWqSDi\n",
       "Z/dCskIJFtI7hYJSlX01QlncuVbfcKxryH6kyPeOvtJesgnWaZS+QqFRbUFYGAr4Ft740abj8kzA\n",
       "BJO4Q4FcRU7PqoDtnmaRPQYBLK7HntWQtOzeGTraO88/WoMh3liRsKaRmRvCRfwF7g5IjJJU+G6x\n",
       "H9GZpGLSMKnRYb3gNAYC65qC5NJEw+owZMZUyZC2bMsO+tpepb3bwX7T2sWjp3HXAW8uEXxyetAZ\n",
       "PbzwXKxhSTo17F6Wq3GUIRjamizGA04IcU3lCHprAEiopW5YN8F4bt8U+ETWxM2GAk8QYWDOdSpY\n",
       "YaWaQN01FsHtUr7XCqjzc46g9SEoOGufPgQgZbSQPes7Bxc/D/RceA5hL8dO0pio/kz8bwg2OhFp\n",
       "hw/u+n8ncFzhdpv6VwI+0mQ9e+Y70hhlfdqVpJzMISeY24h7uUjXmnTPwuaNo6NN2rkhBKH9QuD5\n",
       "l7Gn6vOLazL4MxqikIWgIUMTxjy2C2u88iiAgQEbViRnSmHwYSZV5JvDB/JcCiW90GANgW/jcLfP\n",
       "5alsYuXS1Ygr5V4Rdugtwfsz3+fB/dTZEdjQJSvN9G59H9ZNdmUPbWUYvI7pBnsXmcQvf+NxQ2iC\n",
       "lK9vNtHwxxZECNwp32ls9duNdJT9NwAxMkExgP7lWRxMN8gakzdfzzXj2WfaJNlpwuaUOPp1VMW+\n",
       "1T9fDcHAhP9lAx4KnjKPfdkSZMdTKn6h8x2fancVlvuyY8kzqYzcrZMUuPCXSNJEgowqSyNekxub\n",
       "ICUQhXMLAd1ui4S+msdx/NWEu7Rg7mMdsQukmkDeNIY3ZiaVx8tfoUHWeBpzr+pMbhVNMuuW3RCe\n",
       "0q2weiY66I77dmsgXTYmnTiu3SDCKNfwkUwB/s11Gjo8VpxW/VrlYBxBPLlAsan5xBkuE/0QErQf\n",
       "rsitd/bBJS9vgID7E/CFKTgarYiU/TnkhKT6BQ4cEKMAcsMbT8/cmm7ORXOju/DmZvMYIQ0NwjL1\n",
       "KdZoBF1ch+XuZMq3OngOzuR4aY1Zzj3gBQPZc2wov7LDL8mavmajKf4EPoYBi14GBaojVs2X8CVH\n",
       "xgTfHyBShkpnoo8xbc1veKBjccptogd1hYy1mm9xHmWRFR/T1FVbgznHOakYsukabDNMfnTFqujN\n",
       "9sfpp+QRpAppFI82pr+t86wQVM5ZaNMXLE6dQ/haR2aMmbtoCFTYlq598/ywf/ikn82VDVt7SZtr\n",
       "F57/3NGgUlCqKwiyC9D9FbPZvscQ4Nb+lOSfcjg9tTa31QtABLZJlIWp/gtOjA0klaLSmluqrHKP\n",
       "FHVOPhQG+Hl8SKlDx1M3wsIgQBGRuRcKUVyGlNl3jtDc+Shz3l3wTUXBMngF+OCBmf5voS8NP2wd\n",
       "lNb2kE/hj1iCvf0aI0C6CeVivQITW56xGYhQtP/wOrhL55BaaCI+6LCiVyFgmCD6Q/EM8VDxi3fA\n",
       "XIZxC3V9HrCaV9dfiR0jPdEGiNvxU3w1aGYZFxp7dvmXziT8DTtWC4bq/Vu0Ir2EF/rDp6n0PvJr\n",
       "WrX3QfgoYqCCPp0QxOOWJbcv8JZI3ueSGMObQPSaqgxkS8hKNlmBmdXUGKWeJrMRTlVGNX2zeblV\n",
       "T8qK9m4XPlfMZo/o7s0MoPKLiiCBou1VPYd3A58nCQ19PnvGShqi4qLUrwilEg1/wqTeKfeN0ndW\n",
       "bb/kA3RVoJTo+aiGmhXRYwVXqCzOcE3TViv7hSn91xq4K8y2CiopYL8L36710a7zsIjKOnESL/2u\n",
       "E8R6FlcmYqxmppzIFkdT9ejUFSiyb32mhJMMTX7e5T7HF+B/AryVmS/blaK4Yy2pVQystBogJz1I\n",
       "ww+Wc+37oYlgUgMmypZsRPtPQ3yl/lnFbgBaGd9/3msyQoyf9/pyKvWZT9Zk5t6h6kfPj6qH0MTx\n",
       "bM+oL55SzPyRiBz5mNAoRa/YKh+er1irVFFtDFotrhvJyZOO0mc6iGG5DywXgN4/I4e8dhL/QDWi\n",
       "LdOdGOdlMDYcQFF17BQlUzbMrIXzlX+yEdI8cBBSckHMtBIdX8A0a3TPfpjkkIwkH5d3OevWMk+k\n",
       "EGJR/N31JI63lQTh4lD+RUEAAAcNQZ6GRREsEP8BouND8ZjWNXB4AAlq6IbGQJ5h+h4mU/w2yK40\n",
       "27AD0BpktF0kaKSlV2qtLcQiscTUUh1uPkI6Lvcr+yO5s+VSa5HLAcej9i9/1b1Uw9kDw00Kg/v1\n",
       "ZBqPZRimXK3wvK/fO529u7zYNTkwRkH2mcp64AjY0gQr4rNR+991Ot0kj74k7rRg+h0tN0Qy8HMI\n",
       "xCenr0oGtqDCFiZbR4Ed7nBx4pw1HzNBK/2I3uWcg0nlJMM9QNva+aONpKlsdXx+uuhBQ+wDZv5w\n",
       "qfLGTuj2zIaCSEtc5PqxdmzARfzhAkJXcFpSH0+eiF49RRFO9kDeNPv+HXtHm+CaZQFBDm5WM7Hg\n",
       "cK7YwVGB6CZQU4lWoTwDbEd7QPoAUCNGIH9s6zTWiqIvODCNaFeILbMW0jAcuH/TOlJZ+DIG9jXw\n",
       "RtFGCB6EHG5I42aeDYYQACCDHgTWwiKDbLYVAzO1yopm7D2SAjyaQy11tc2NNoPLCsXd4bdNEMkp\n",
       "Fz2B9BDuZ7n2sn6awoOPIihItHdAZJJH/BkPQ3Ofw1KcR8BWmBLKzM8Iifxj0mvcauZKXqY58xIr\n",
       "mvY9yxQApeQ9z/9a0tL2bK8ao1BV9nlzbHOq44IwV/P8zQS4NKOaudnGmGnlXJgLdtL6nkbuNCYX\n",
       "bp9eUJv7XQb95SC168BNViwTA9XDjnf7xc67MOmUjeIhsq+eWpfKAivCj75Jky84AAWyAdFBCI3D\n",
       "X9jTDHTwyU0uK+S7K0Drkd4X7ajnbpi8lpjunEXQyVjRm38onx9JYzwNqRtRfrmDBYGe4GYguxwz\n",
       "X/A1XQvhK/KxuMzAENgCF9BtSI4BaJSEd5mFuYhlV2IEzG0f0F2r823eGMzkSXeJnUzQfO4o3gGM\n",
       "sKIjFAGNZEsQ1ZjpkiBwY1HRxu0cbtP6OhJZaZtdU831IM25F/51BZC38RjF0K4D4n1h99VVybVV\n",
       "caHemeT52TJ8XICkXQxPWAvYE8KRky399DcKaY4a0ptHg7dkolXf/j7Mc0tOCoFV1GuUt9Dvwljd\n",
       "o9oUJDGFhE7K40LlbpKtVtmx6jXIQXvGbSxEl7zJonGB1MdmwzMxE3aDbOW9dtdJOfcjvUa4cgyM\n",
       "/jbQf5BE/jyTVK52QLaoatXAUEQBfW9Gb9vHc1ehImJeAVD5LiyUEu6RZoNpjECIphiOtFRLN4od\n",
       "dsDsvtOq0secXW8goRNP3/5TclHZbZz1NaB6VHWY/kr7iUbcfXgadX2PCQf9Mop8V6pGFiJsOFpP\n",
       "NrLbiLI45y4hmvKIuT/VrgbkGTesLTxJMub+Udv24wDkv+SehfTWE8YI1vGIf0CvIc9nb41zIfMN\n",
       "n5FwBIVxOGe9fNzo+2p8fQEu3TYgMLj9VN9QWp9BmSg5aQaLCpzxBUoNBn9IhL8tlSeknx3Xgmy8\n",
       "+CZZ1ZRNdhTXw6HpSTy07K+PGPK3cIb97LnyJXMnbl0ICeTGwwgMyoAh1MCSgkVGOiAhwR+mqVdh\n",
       "hFWjKgCkLvSBrVPm+NvWDhxU5XnE6HZD7pR+ApAWtY4EgDzkFo6gWuL87VT9K1On7F2GDEMLfESH\n",
       "MOiLLAPUeaKl3qxMUPwDjsj84e4nGcfhy8uQmoHxtcbPAGamfKO/UBeuDu9Ow9WVwQKGtOY0Qtuq\n",
       "j7SQkD4MMyBsJiffZo+QGwZRykkLl10FTu0G5CAvS+6ctFOp/njeoLjfaElTJhXZ7EjuKzcqgfS8\n",
       "S9DDipLsd/s7edAVTOMc/CUaEStgM7bpmBoVi/Lt7t4Xfj/De/dhHJ3cVYXMo4LhrjRXQqvsFExE\n",
       "x8LLxBxVHTQVThDzKojKuMLBN5ZrqdJH5mNTKBnaYTtTNvA8AxpWX+hznn/qUbb+TjJ+moVasRJ9\n",
       "xKuwQJmrCDUH/+LQD0U/eKfSI9TVpj9I/vkk29coJI+Q2BkHAF3/FeVUClyFYII0r8h6tIKGyj0t\n",
       "NnaHuhc5/jNSMR9hZ09WJdKPE2xFUTKHHc/4iAm2XA0r5KCW1FZetM18pBt1hMw8M0sYdy7nh1dB\n",
       "C8ZWsjwg5HSbCTtvxXu4Y3a1NXmVzvR1Qk0BG60WYp+iT9EdFe5LkZHUQYZH6uVZgpvZJxqbGmRI\n",
       "e+67rC6c580LN5ANT1jef5Y4P0nJAzPuEKIQj0Bliq1X147T06wS3rlYgrzJiEXZ+f7phL2+BV6q\n",
       "29ewmWatp3QZZGnKqi5vJLxozHf4sXoNAZi7FjWjjQbmps2SSgaZF+MeKSJAY7rAfQb0DPAScTAW\n",
       "x1hYPXA3WJA4sUWYLF50q7grfzVJI07H74MDvsw74fr4qZMUppnZQhGnLX+s6DExoYNamBYDLCec\n",
       "QnNFosrEGpWQZU7AgssRlCvFEsQ0PH7PCsmkyf3eulqi4ie3k4nPVSdmrMp7U2Au+lr78z5a+zOv\n",
       "gRUAAAV8AZ6ldEP/AvctUrkc9YuD6ACEuZrd8kerjFfijQr+YGChOB6xK+C1BWn4+JFw1O3xEojF\n",
       "nRbv8s+PBWLtzwNlWHqkdaDqeGRHP5X//j4DxquXD6VXckCKQKBceY3q159MBqZhq/2C+xIq2ZF5\n",
       "Jc0y34gk8KkAgITRLcVTBohZFYYN3Bw/E03kyHxFAJiq/7egtpycvIQ4EqPYs4mpYYgDuyNRQVu0\n",
       "NBuQlYUQfRMh4a4KXuhFsUcuD6ZlkIm9mR4kTRkQ9HkFQ3+Y3QCsD2Moh0AFL120yZAAogCzOOTt\n",
       "IpFeuASFyHe7fgjn88vw7PhqPWr7F7aruxc3r7VVRPpBpR1HgWyrgQ9Nckc9QnD8BSb661cLcve9\n",
       "i3O6a0LQ3KZ/wjyChSIgQPACvP7ZFhYb3kuPwLauzron3DQNs2P4oG+hZRZp239iQgtw1rZb0m4M\n",
       "IZ27X8+2c/3D9E8FPkeEBAzdCkEixFnOyMLiKW83137BucrQm9pEz3Yq9KrmE3mA0+DLk5Q98cmJ\n",
       "pnE8IfiViQuAIBSuSQR5GF75eJL06wAqH4+eEAmCeVL3bwSF3qffCDryiaeOsqRFMFhORk8tFKM4\n",
       "DIIKhcj52HSiBTTeXXifR3TGc44BD5/gMoe0bbIQ6bT7OG76QjBZS54VI3hAKrcieSvAhghvcbU3\n",
       "zhJqROkvEq363PHAb6tWCPk/e6YPA3g9/MWHYoqa/Q/TvwivdovcNQMT0RpBj8YgPNomCwqdF/6T\n",
       "531TrAS9baQf2f4M8N9LFuNjOd/QAl5AqLB+PgRfip2bxupMdXDZYcXf0tVEoFGd/DjQc8ZjhVjH\n",
       "1tNPjl4asdGD0gFB43+Spbi1SM/M+OqChncaYFu7QbZx69PLLT7wocbhwg5f4YA3AAQSy985eub6\n",
       "fo/Vsue281tzDu1m5RTjggBs+DIAcDpvXp/QacxfeP66AaDojZVKF00THMWhLqDY/dXC1LFkrMQh\n",
       "9A0wlSrAd7soyaf/pc0EygmGWPJLQzsHaFGgGu8+jLsld5ewIPPgrIiKOMjRUgii3zWxq1nS9EdP\n",
       "VwxjMhLOJ5V4lRkGVXMRPnfIP9iPdsXQaybS8w/W5nWxEKG4L32m4D2XaZ22xB3ZcF2pj+jiLtGb\n",
       "zMtoM06lSTzFuzW7oYQ1yvXjgBjGfJbwtUDaEoLx55c9R9XGWTWJX0vnWKKXU9jSNErdRPsB2qxv\n",
       "rTVwcUkg4ZKDKUiFw/whgV2JxNQAFACX/hEulHO4azZALYDq1AD8QMKn6/8sqYpI5MYAW4POk//j\n",
       "usYSEa2wGm4hvRhvmLD8vr97RUyRrFwOpyyENc39hxkp0Akoxq/QERRwtQ0YLmAO9b4ZntEPDYI/\n",
       "pIaIT7Om4TdN2qcYSC/vZduymG60e2QyQG5N8d2DjOJxL91Mfpup/JG6xQZ/FBoAJn2o+z/Kamf7\n",
       "Rip022eFGYpr+wcgqM7DOwcwffyi1oQW0wV9miD/RJDrX10kxroj3xSjiySyj92kKf2qzjSppuqL\n",
       "nGwNXdo21oQm2AI+gO/a+CWDCwVTD+9xw4WpR60jOwqu7oP29Bkd1A3fYcYpfncIdbPX0OGuWPg6\n",
       "7Xmsr1wdDvIyhLuK2F7bwhPfTwK/ez3yobQY5Oxb9BkfCdkVzD7yDi1RBBZSzbEUmVPjjtf27Jc8\n",
       "a3XnN1GQ5OrnmNTdM0t2kj92EKFHHzPLwCq3w/p/bRco0X8hD/36oIn0ux6NllV+vn2FF22An375\n",
       "21a5uUp2iXyPNLfSd2Nd2qrK4zwnVXWh5R8kDD13rDNhinCcCGznl8eWwOHhCp2w/bvhTss8YRs5\n",
       "/E74DUMUdl2aRl57iUkPVWsbr+qssIp8tSPuvDl7K2N2/gWZeZ+WKQITAAAFZwGep2pD/wL3bpAy\n",
       "mo7X7R9ABCXM1u+SPVxi1oLM4fGAG1j5Vsn1Zfr3dXi3V2nfvt0WINzsSjKAFO43cjRfQ5epX1pq\n",
       "McVO1Sgt2Z/egxrS3Y5B+Z3+rburor0zUF4OV7J1KdogN6FjeYpKWrP1cpDkuIf+3/yVpiYVD1rl\n",
       "pf2WesoivsC9t0zZPYTQR4Df76KUC9wI/mhFfO1RHYoqymwLQT6yB7yt9Yq2rdLZeHAw+ahRGpAo\n",
       "L6oeNdSitEFX5Hv08eb0Y9mADjshL0mpCBqaXQ+lZsEeHyB/UrJTk+AT8AW8tTuVp+ul2fh560+G\n",
       "aO1w5gWHPgn//mOxOJ5pqQRmBTp3jGCeiSxCLidN2z8ewCPFBYtRFHpW6WzliXqSGvGset5As8gq\n",
       "z29QCBDlFIJrH6PK5hjGwqmyxPRbXkSYhNZM31vccDGLfvTW3nkIxdUKqv3QF9oteKvydrFCmitE\n",
       "rBhadrCCwhOdVI3cf8FM7UX4L1crAwiAyKFenurNOPZZMiLloJzAmJ+IX5bNTq5hvAXe+zyVEhWX\n",
       "K/QpqQYjIXbtYmWzPk0p4VmXy1IYM/4+BK4oWRoMNpyu7+fvw0maS2wLrUPKiJZUpoKvN8ydYkX5\n",
       "b5CXss0cCPbYAdAkPk05ULl6E5CcidXzUDzfmGxQ91DaZMdHQkaWdwUYVFcTijdO71oTrRlW2RVz\n",
       "bdc5FIjhQKThRCqUXOnTvdcxDAuB6npigicrblsDLPZu8CIplD4cv0XdInFCOKucrgidSZQMfLlI\n",
       "EUBJnTO52CYpGmQp1uqtS7rqjUnKU4jiQ12vsfucNoe5/xNiXaZ4TqRpXzX0zpJZzeZyYV85qfNQ\n",
       "Zr/yvixKMD0gkUWz2O1AZJ7Hr8JDxCuvbT96vtYqabHh5Smq9g1Dq4CJbjMditx2n76M7MLHbRUB\n",
       "UNe8PWvqmNtRExjvn7CQ/b0JkknzhyDfzhJ/2TlpSxKtlWPahamJ1KgarYhhCy0+j69Ys4wwbJxM\n",
       "Usvw5coQwG0i2Kzh7m8UfLUonqbYu3b3jiMZsotpgGbqpNH10zww0cWSEHDYOjaGRrbh5kVfnPed\n",
       "U1I7AqjyKNMHaf7Gu0HA8ttkLrNx1qmqLK54qRCoJCpT84v5UeEjQj/YmTJFl43Gnw/tYb70bx0h\n",
       "ytT5KewW+TP5XL1fp1WZh/cHtadmA5bE4yRUq8OYodYLRSUUBji8cepI0eeBlETO31lO5bUEvVky\n",
       "vEJ1qNKjORa7QteZfqIKSaxS7dG3qU23EWzhfoas6uJV5BgmWs8zQpY1DW+uSDb1jYDv+znamA3r\n",
       "yubxeomnMguxF6xP1zYlpKKHAxcNUrKqjqQZ8WG1uXv+odFB09TNbnMJH3cQt2Fr6aB3gsx0IfOz\n",
       "a9Fh7AfEkmOzKwWO9mgJQrgqpA2UN4U3OfEgJ6UHmtw8zX4VXeEYDNheL+jEQJzXcF2nI++VDWUR\n",
       "aKh6xugFmhWDNfO9xQC05LykBkI7DkLrfPukgv2Ga5mVbT03wGh3cN/y4ZdyU9UZpLyn3GW+hudh\n",
       "YevjNhvlsBo7+sAdBBqZpKjU5K9neH7uiUui9zJka8WPw4il7EGNcNPVOkXNBNdMhfaBOhzoi9Qf\n",
       "57PnGXFtEW80By/QPqT2zEAVpaqMbBEiFvt4XYMERMRLuFwkYScT5wVM0ELXnrRXr5mz+RPpnoB3\n",
       "G/AOfGTguek7TRZoEn4SywkUzO6AnY71lAdZbT/Tc57xxHNtBjuEvg6lcAqkTFt//cojU+WP8ueH\n",
       "gGn7jw3P/zbmZCtFex7js8YdIAlTW0Tfa1AY9I8dfDWqwjuuRVuewDqW9P4Id59VPN5RB/5JX7Zm\n",
       "BHyHjgAABvNBmqlJqEFsmUwIf//+qZYIHe/YgJlzimyACHuZrd8kerjFBazQr+FN7JsUqyi598zg\n",
       "OE1759IT/w6hx0CJlT1EhmSiVliiign9t2QNu23uJEp4HZmSaLiruW0eNitXNRwZGFzeEupGDPvX\n",
       "byJf4Gq35f/HJRlaRzGKkUUsv6cCRfCAUkBfWJ2jwRzsht2ZMAUmnbp5ac/oBRlCflaug0e1Z+OH\n",
       "HclO1NL8fa9hmNnZ7ONlLsBdZo3x75ZJLgJUfl/xMTl9OwlPFdujZ6ltiZ8P7v3OiUoHWtXie48U\n",
       "K6HMnRJSqzxAjLnVHmBPw08itxZwsLxGFktg2TvRsGFFE1EuM71nFtagYjaDNGlmdCpqHGbgFYGR\n",
       "Arus7mi724vS6XIHH14GZGaG7hhtScKbL/iSqh9PiYIqb+wtZLgTf3C0RkZLrmrep+P1K+1NjpzK\n",
       "6B+aJjBdDktVtZnctpf8t2u+sK7RvfRqsctyOGr7YyiU1piXUfHrCldNDcNYsynEkgcgsnHsjtH2\n",
       "pEzM+s4ho4/J/66bbE7uHYbmzifR2ugmdvsgD/AH8QtMztOLfFCOEirgsL9xgevqh/bV1BS/dky2\n",
       "8nf2lpshVu8rDd9RVpv9oBDr2PFp/hpe5Hn1nfH2KEyHdLwepDSixGlQI1UGoRPSVMiXVgMs+KKG\n",
       "JeqUIdRh0Hvxk+xVZrjX5bAn/jznT13EKBcif19RqH7pBSbaW9NKWSU4HBR4uMD66Nt/fQeuebb2\n",
       "fDbZx11lejC/ulUxFWLJOdBEBvbudCm3kXeczaiwVMnBH6kJJSmYIp/ptCSBMacT7J6x4VlugPB2\n",
       "Bjg65Y9pedER1SfXgt2V7Qwq+rjLh/GVHCe0uAf2HGsRanmyYmqh0OPtGL/i/qTEHZrlpXcVLcxh\n",
       "ZSDOit+Z0qmpA87BFJR1wvVwVLldCpzaMyeIaPheAzbSqj5NYS6CviZ9+MlgWAs+5mrGGum2RTxR\n",
       "i9uJrqXWXvzwonsLcBjQPEpMZ0Xh2m1a0j9FWRUka9nE+rAI8TAO4rv+KnLPvwwyEfX4L3HR4x2n\n",
       "sEZ/k0IPg8SKtYuWzFEvdZs6asOfu64G+WPVuMZlB6WN5LXxTNoBi1X5mQHMur8U5QjQKiF8C8ec\n",
       "3e3QL61wWN2JjcsUuUutrVH9izN5agkwec4lPh9p+YnI92MCY+fNpZQhGJoN19TI3atKqOhZsPq0\n",
       "4WQxz+AQDlM4GhTrz0suKhYFR8GlpsY7lAhgexfyFwSQa6kUXhgFsRCJtlj//4DbxsOg9K1OjTog\n",
       "tqCQAZPH/izVkQSK+kZmQurfN5qFqEBds9AfRouUIiuZPWbrgBEc6/U5BSV/0w4Fjd0eVVS+rbgc\n",
       "7g9JqJ+uPaNbULtjzx29SAaB8+UuyWp4lOBIoIfPLiMw4k88/BZs23y2J35JTpbWUz2BHHFnYOdv\n",
       "3wfPxZ/wc0ukL86apSVxh1d+mfQB8PZ/FgWHFp8dnkGqJd1lF+d+gLbgx8WAABV6tHjN7dTl2yYS\n",
       "Qfps1gsicOTTQm2DVq47JJJJVYUDY9v3+PfVrHewQACUFihxCBcDlKpVJTn/0XU0WUhnWPLEoKM9\n",
       "GkVdRwT3QC2F95BhMiLuVA29Z2xeDwIyZDHRCsD6PUtzGH0ZaHY5mlSZe6K1Xfy4YPLNF5HwDSyy\n",
       "iY2pbeE719vZ9R3mwTczryX3rMKvKqrXzkhCjSrgD2A6tR6yiYYJ84zsXrDEOWbfeL89lPn6DBtq\n",
       "ZYz+qpYmhlHgWO+GGKllTcUJ9OrTIEB09nM9IIH4KXYpJ9ZaH8pWHWtLJXjfuHPXWo9tLH0H2E6j\n",
       "WeCKg7Rak/2v4E0vdRcmZb7bZvoaTafqlcXEM7odVqLOgYjEP+ZuNQcArXPaCTKJ0x1Qary24wqv\n",
       "VzkKptCR/G0VAT/eJMn/WOshtQiRyg7THmaOHacHIOePDBRfiroQowQmMzpPiR22GcZjLl+tpTyj\n",
       "Hqgi1mDv133y5Q7veXnz+jAlB+B8TLrq23o+JqWDX2cBNyFeRMJibqODo+up9HbuEK2e2GQ4bIIR\n",
       "ZPDeTv6szJX7V4vjWjNDqfjXDc4wbu1ovoJelJleQK++Xu6F+Gr/6ukWvtIi53G0BJqKSy342Vly\n",
       "G9VvFog9QKnEcYAnDXpOUFXK781CSSGF3NaoviWfsw4LIHCnhUQTZWEmKuDyDHCvwxB+HKmQjgXA\n",
       "GWcWh4J/omCeBo1PGYznEcfLcqf7/WMuEnEAgQPQS8030bNtdHs1Mmgypul7ITHB7vly0bElIzG5\n",
       "L4/Yr7wIbZMbdLTDsSsDdnD2OQTwgfpZXT9uy8Rmcteb7nBGGQAwpfDMxdO8hTOux1jL9hFeR0lA\n",
       "wiX/jDzK+52d8B38DahuFXpsv7AAAAOqbW9vdgAAAGxtdmhkAAAAAAAAAAAAAAAAAAAD6AAAB9AA\n",
       "AQAAAQAAAAAAAAAAAAAAAAEAAAAAAAAAAAAAAAAAAAABAAAAAAAAAAAAAAAAAABAAAAAAAAAAAAA\n",
       "AAAAAAAAAAAAAAAAAAAAAAAAAAAAAgAAAtR0cmFrAAAAXHRraGQAAAADAAAAAAAAAAAAAAABAAAA\n",
       "AAAAB9AAAAAAAAAAAAAAAAAAAAAAAAEAAAAAAAAAAAAAAAAAAAABAAAAAAAAAAAAAAAAAABAAAAA\n",
       "AbAAAAEgAAAAAAAkZWR0cwAAABxlbHN0AAAAAAAAAAEAAAfQAAAQAAABAAAAAAJMbWRpYQAAACBt\n",
       "ZGhkAAAAAAAAAAAAAAAAAAAoAAAAUABVxAAAAAAALWhkbHIAAAAAAAAAAHZpZGUAAAAAAAAAAAAA\n",
       "AABWaWRlb0hhbmRsZXIAAAAB921pbmYAAAAUdm1oZAAAAAEAAAAAAAAAAAAAACRkaW5mAAAAHGRy\n",
       "ZWYAAAAAAAAAAQAAAAx1cmwgAAAAAQAAAbdzdGJsAAAAt3N0c2QAAAAAAAAAAQAAAKdhdmMxAAAA\n",
       "AAAAAAEAAAAAAAAAAAAAAAAAAAAAAbABIABIAAAASAAAAAAAAAABAAAAAAAAAAAAAAAAAAAAAAAA\n",
       "AAAAAAAAAAAAAAAAAAAAGP//AAAANWF2Y0MBZAAV/+EAGGdkABWs2UGwloQAAAMABAAAAwAoPFi2\n",
       "WAEABmjr48siwP34+AAAAAAcdXVpZGtoQPJfJE/FujmlG88DI/MAAAAAAAAAGHN0dHMAAAAAAAAA\n",
       "AQAAAAoAAAgAAAAAFHN0c3MAAAAAAAAAAQAAAAEAAABgY3R0cwAAAAAAAAAKAAAAAQAAEAAAAAAB\n",
       "AAAoAAAAAAEAABAAAAAAAQAAAAAAAAABAAAIAAAAAAEAACgAAAAAAQAAEAAAAAABAAAAAAAAAAEA\n",
       "AAgAAAAAAQAAEAAAAAAcc3RzYwAAAAAAAAABAAAAAQAAAAoAAAABAAAAPHN0c3oAAAAAAAAAAAAA\n",
       "AAoAABYtAAAHMQAABwcAAAaZAAAGdwAABvoAAAcRAAAFgAAABWsAAAb3AAAAFHN0Y28AAAAAAAAA\n",
       "AQAAADAAAABidWR0YQAAAFptZXRhAAAAAAAAACFoZGxyAAAAAAAAAABtZGlyYXBwbAAAAAAAAAAA\n",
       "AAAAAC1pbHN0AAAAJal0b28AAAAdZGF0YQAAAAEAAAAATGF2ZjU4LjQ1LjEwMA==\n",
       "\">\n",
       "  Your browser does not support the video tag.\n",
       "</video>"
      ],
      "text/plain": [
       "<IPython.core.display.HTML object>"
      ]
     },
     "execution_count": 31,
     "metadata": {},
     "output_type": "execute_result"
    },
    {
     "data": {
      "image/png": "[encoded data removed]",
      "text/plain": [
       "<Figure size 432x288 with 2 Axes>"
      ]
     },
     "metadata": {
      "needs_background": "light"
     },
     "output_type": "display_data"
    }
   ],
   "source": [
    "fig, (ax1, ax2) =  plt.subplots(1, 2)\n",
    "camera = Camera(fig)\n",
    "M = result[-1][1]\n",
    "M2 = result[-1][3]\n",
    "for i in range(N):    \n",
    "    ax1.scatter(M[:,i,0].detach(),M[:,i,1].detach())\n",
    "    ax2.scatter(M2[:,i,0].detach(),M2[:,i,1].detach())\n",
    "    ax1.set_title(\"Forward\")\n",
    "    ax2.set_title(\"Backward\")\n",
    "    camera.snap()\n",
    "animation = camera.animate()\n",
    "HTML(animation.to_html5_video())\n",
    "#animation.save('animation.mp4')\n"
   ]
  },
  {
   "cell_type": "code",
   "execution_count": null,
   "metadata": {},
   "outputs": [],
   "source": []
  }
 ],
 "metadata": {
  "kernelspec": {
   "display_name": "Python 3",
   "language": "python",
   "name": "python3"
  },
  "language_info": {
   "codemirror_mode": {
    "name": "ipython",
    "version": 3
   },
   "file_extension": ".py",
   "mimetype": "text/x-python",
   "name": "python",
   "nbconvert_exporter": "python",
   "pygments_lexer": "ipython3",
   "version": "3.6.12"
  }
 },
 "nbformat": 4,
 "nbformat_minor": 4
}
