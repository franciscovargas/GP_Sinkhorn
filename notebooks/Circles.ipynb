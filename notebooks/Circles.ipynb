{
 "cells": [
  {
   "cell_type": "code",
   "execution_count": 2,
   "metadata": {},
   "outputs": [],
   "source": [
    "# import sys\n",
    "# sys.path.append('./../gp_sinkhorn/')\n",
    "from gp_sinkhorn.SDE_solver import solve_sde_RK\n",
    "from gp_sinkhorn.utils import plot_trajectories_2\n",
    "from gp_sinkhorn.MLE_drift import *\n",
    "from gp_sinkhorn import MLE_drift\n",
    "\n",
    "import copy\n",
    "import torch\n",
    "import math\n",
    "import numpy as np\n",
    "\n",
    "from pyro.contrib.gp.kernels import Exponential, Matern32, RBF, Brownian, Combination, Product, Sum\n",
    "\n",
    "from celluloid import Camera\n",
    "from IPython.display import HTML\n",
    "import matplotlib.pyplot as plt\n",
    "from sklearn.datasets import make_circles"
   ]
  },
  {
   "cell_type": "markdown",
   "metadata": {},
   "source": [
    "#  IPFP"
   ]
  },
  {
   "cell_type": "code",
   "execution_count": 2,
   "metadata": {},
   "outputs": [
    {
     "data": {
      "image/png": "[encoded data removed]",
      "text/plain": [
       "<Figure size 432x288 with 1 Axes>"
      ]
     },
     "metadata": {
      "needs_background": "light"
     },
     "output_type": "display_data"
    }
   ],
   "source": [
    "device=\"cpu\"\n",
    "sigma = 1\n",
    "dt = 0.01\n",
    "N = int(math.ceil(1.0/dt))\n",
    "\n",
    "num_samples = 30\n",
    "\n",
    "import numpy.random as npr\n",
    "import numpy as np\n",
    "import matplotlib.pyplot as plt\n",
    "%matplotlib inline\n",
    "np.random.seed(0)\n",
    "n = 200\n",
    "n_2 = int(n * 1.0 / 3)\n",
    "# n_2 = int(n * 1.0 / 2.0)\n",
    "\n",
    "\n",
    "X1 = npr.randn(2 * n).reshape(-1,2) - 0\n",
    "X2, _ =  make_circles(n_samples=n, factor=0.3, noise=0.03)\n",
    "X2 *= 3.5\n",
    "# X1, X2 = X2, X1\n",
    "\n",
    "plt.plot(X2[:,0], X2[:,1], '.')\n",
    "plt.plot(X1[:,0], X1[:,1], '.')\n",
    "\n",
    "with torch.cuda.device(0):\n",
    "\n",
    "    X1 = torch.tensor(X1).to(device)\n",
    "    X2 = torch.tensor(X2).to(device)\n",
    "X_12 = torch.cat((X1,X2))"
   ]
  },
  {
   "cell_type": "code",
   "execution_count": 1,
   "metadata": {
    "scrolled": true
   },
   "outputs": [],
   "source": [
    "result = MLE_IPFP(X1,X2,prior_X_0=X_12, N=N)"
   ]
  },
  {
   "cell_type": "code",
   "execution_count": null,
   "metadata": {
    "scrolled": true
   },
   "outputs": [],
   "source": [
    "def plot_trajectories_both_3d(Xts,t , Xts_, t_, name=None):\n",
    "\n",
    "    fn = 14\n",
    "    fig = plt.figure(figsize=(15,10))\n",
    "    \n",
    "    n = Xts.shape[0]\n",
    "    \n",
    "    \n",
    "    ax = fig.add_subplot(1, 2, 1, projection='3d')\n",
    "    ax.set_xlabel(\"$t$\", fontsize=fn)\n",
    "    ax.set_ylabel(\"$x(t)$\", fontsize=fn)\n",
    "    ax.set_zlabel(\"$y(t)$\", fontsize=fn)\n",
    "    for i in range(n):\n",
    "        label = \"$\\mathbb{Q}$: Forward process\" if i == 0 else None\n",
    "        ti, xi = t.cpu().flatten(), Xts[i,:,:-1].detach().cpu().numpy()\n",
    "        ax.plot(ti, xi[:,0], xi[:,1],  'b', alpha=0.3,  label=label)\n",
    "    \n",
    "    \n",
    "    ax.legend(fontsize=fn)\n",
    "\n",
    "    ax = fig.add_subplot(1, 2, 2, projection='3d')\n",
    "    tt = ax.get_xticks()\n",
    "    ax.set_xlabel(\"$t$\", fontsize=fn)\n",
    "    ax.set_ylabel(\"$x(t)$\", fontsize=fn)\n",
    "    ax.set_zlabel(\"$y(t)$\", fontsize=fn)\n",
    "    \n",
    "    n = Xts_.shape[0]\n",
    "    \n",
    "    ax.set_xticks(tt.flatten() )\n",
    "    ax.set_xticklabels(list(map (lambda x: '{0:.2f}'.format((x)), tt))[::-1])\n",
    "    for i in range(n):\n",
    "        label = \"$\\mathbb{P}$: Reverse process\" if i == 0 else None\n",
    "        ti, xi = t_.cpu().flatten(), Xts_[i,:, :-1].detach().cpu().numpy()\n",
    "        ax.plot(ti, xi[:,0], xi[:,1], 'r', alpha=0.3, label=label)\n",
    "\n",
    "    ax.legend(fontsize=fn)\n",
    "    \n",
    "    if name is not None:\n",
    "        plt.savefig(name)\n",
    "    plt.show() \n",
    "\n",
    "T,M,T2,M2 = result[-1]\n",
    "plot_trajectories_both_3d(M,T, M2, T2)"
   ]
  }
 ],
 "metadata": {
  "kernelspec": {
   "display_name": "Python 3",
   "language": "python",
   "name": "python3"
  },
  "language_info": {
   "codemirror_mode": {
    "name": "ipython",
    "version": 3
   },
   "file_extension": ".py",
   "mimetype": "text/x-python",
   "name": "python",
   "nbconvert_exporter": "python",
   "pygments_lexer": "ipython3",
   "version": "3.8.10"
  }
 },
 "nbformat": 4,
 "nbformat_minor": 4
}
