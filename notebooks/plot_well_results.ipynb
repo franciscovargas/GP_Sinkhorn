{
 "cells": [
  {
   "cell_type": "code",
   "execution_count": 48,
   "metadata": {},
   "outputs": [],
   "source": [
    "import pickle\n",
    "import pandas as pd\n",
    "import numpy as np\n",
    "import seaborn as sns\n",
    "import matplotlib.pyplot as plt\n",
    "from scipy.stats import wasserstein_distance\n",
    "import ot\n",
    "import torch"
   ]
  },
  {
   "cell_type": "code",
   "execution_count": 64,
   "metadata": {},
   "outputs": [
    {
     "name": "stdout",
     "output_type": "stream",
     "text": [
      "12\n",
      "22\n"
     ]
    }
   ],
   "source": [
    "d = []\n",
    "for i in [2,3,4,5]:\n",
    "    d += pickle.load(open(\"./../assets/well/\"+str(i)+\"_error_prior_results.pkl\",\"rb\"))[1]\n",
    "d = np.array(d).squeeze()\n",
    "\n",
    "tmp = []\n",
    "for i in range(d.shape[0]):\n",
    "    if np.any(d[i,0,0,1:] > 100):\n",
    "        tmp.append(i)\n",
    "        print(i)\n",
    "d = np.delete(d,tmp,0)\n",
    "d_mean = d.mean(axis=0)\n"
   ]
  },
  {
   "cell_type": "code",
   "execution_count": 65,
   "metadata": {},
   "outputs": [
    {
     "data": {
      "text/html": [
       "<div>\n",
       "<style scoped>\n",
       "    .dataframe tbody tr th:only-of-type {\n",
       "        vertical-align: middle;\n",
       "    }\n",
       "\n",
       "    .dataframe tbody tr th {\n",
       "        vertical-align: top;\n",
       "    }\n",
       "\n",
       "    .dataframe thead th {\n",
       "        text-align: right;\n",
       "    }\n",
       "</style>\n",
       "<table border=\"1\" class=\"dataframe\">\n",
       "  <thead>\n",
       "    <tr style=\"text-align: right;\">\n",
       "      <th></th>\n",
       "      <th>Error</th>\n",
       "      <th>Number of Samples</th>\n",
       "      <th>Prior</th>\n",
       "      <th>Time</th>\n",
       "    </tr>\n",
       "  </thead>\n",
       "  <tbody>\n",
       "    <tr>\n",
       "      <th>0</th>\n",
       "      <td>73.881754</td>\n",
       "      <td>10</td>\n",
       "      <td>No prior</td>\n",
       "      <td>1</td>\n",
       "    </tr>\n",
       "    <tr>\n",
       "      <th>1</th>\n",
       "      <td>22.199341</td>\n",
       "      <td>10</td>\n",
       "      <td>No prior</td>\n",
       "      <td>2</td>\n",
       "    </tr>\n",
       "    <tr>\n",
       "      <th>2</th>\n",
       "      <td>25.584749</td>\n",
       "      <td>10</td>\n",
       "      <td>No prior</td>\n",
       "      <td>3</td>\n",
       "    </tr>\n",
       "    <tr>\n",
       "      <th>3</th>\n",
       "      <td>22.290828</td>\n",
       "      <td>10</td>\n",
       "      <td>No prior</td>\n",
       "      <td>4</td>\n",
       "    </tr>\n",
       "    <tr>\n",
       "      <th>4</th>\n",
       "      <td>24.029398</td>\n",
       "      <td>10</td>\n",
       "      <td>No prior</td>\n",
       "      <td>5</td>\n",
       "    </tr>\n",
       "    <tr>\n",
       "      <th>...</th>\n",
       "      <td>...</td>\n",
       "      <td>...</td>\n",
       "      <td>...</td>\n",
       "      <td>...</td>\n",
       "    </tr>\n",
       "    <tr>\n",
       "      <th>2041</th>\n",
       "      <td>21.952288</td>\n",
       "      <td>40</td>\n",
       "      <td>Prior</td>\n",
       "      <td>7</td>\n",
       "    </tr>\n",
       "    <tr>\n",
       "      <th>2042</th>\n",
       "      <td>21.555866</td>\n",
       "      <td>40</td>\n",
       "      <td>Prior</td>\n",
       "      <td>8</td>\n",
       "    </tr>\n",
       "    <tr>\n",
       "      <th>2043</th>\n",
       "      <td>21.750760</td>\n",
       "      <td>40</td>\n",
       "      <td>Prior</td>\n",
       "      <td>9</td>\n",
       "    </tr>\n",
       "    <tr>\n",
       "      <th>2044</th>\n",
       "      <td>22.091780</td>\n",
       "      <td>40</td>\n",
       "      <td>Prior</td>\n",
       "      <td>10</td>\n",
       "    </tr>\n",
       "    <tr>\n",
       "      <th>2045</th>\n",
       "      <td>21.308079</td>\n",
       "      <td>40</td>\n",
       "      <td>Prior</td>\n",
       "      <td>11</td>\n",
       "    </tr>\n",
       "  </tbody>\n",
       "</table>\n",
       "<p>2046 rows × 4 columns</p>\n",
       "</div>"
      ],
      "text/plain": [
       "          Error  Number of Samples     Prior  Time\n",
       "0     73.881754                 10  No prior     1\n",
       "1     22.199341                 10  No prior     2\n",
       "2     25.584749                 10  No prior     3\n",
       "3     22.290828                 10  No prior     4\n",
       "4     24.029398                 10  No prior     5\n",
       "...         ...                ...       ...   ...\n",
       "2041  21.952288                 40     Prior     7\n",
       "2042  21.555866                 40     Prior     8\n",
       "2043  21.750760                 40     Prior     9\n",
       "2044  22.091780                 40     Prior    10\n",
       "2045  21.308079                 40     Prior    11\n",
       "\n",
       "[2046 rows x 4 columns]"
      ]
     },
     "execution_count": 65,
     "metadata": {},
     "output_type": "execute_result"
    }
   ],
   "source": [
    "result = []\n",
    "num_samples = [10,20,40]\n",
    "gp_prior = [\"No prior\",\"Prior\"]\n",
    "for n in range(d.shape[0]):\n",
    "    for num_s in range(3):\n",
    "        for p in range(2):\n",
    "            for t in range(d.shape[-1]):\n",
    "                result.append([d[n,num_s,p,t],num_samples[num_s],gp_prior[p],t+1])\n",
    "df = pd.DataFrame(result,columns=[\"Error\",\"Number of Samples\",\"Prior\",\"Time\"])\n",
    "df"
   ]
  },
  {
   "cell_type": "code",
   "execution_count": 67,
   "metadata": {},
   "outputs": [
    {
     "data": {
      "image/png": "[encoded data removed]",
      "text/plain": [
       "<Figure size 432x288 with 1 Axes>"
      ]
     },
     "metadata": {
      "needs_background": "light"
     },
     "output_type": "display_data"
    }
   ],
   "source": [
    "x = np.arange(1,d_mean[0,0,:].shape[0]+1)\n",
    "plt.plot(x,np.log(d_mean[0,0,:]),label=\"GP prior = \"+str(i)+\" N=10\",linestyle='-')\n",
    "plt.plot(x,np.log(d_mean[1,0,:]),label=\"GP prior = \"+str(i)+\" N=20\")\n",
    "plt.plot(x,np.log(d_mean[2,0,:]),label=\"GP prior = \"+str(i)+\" N=40\")\n",
    "plt.plot(x,np.log(d_mean[0,1,:]),label=\"GP prior = \"+str(1)+\" N=20\",linestyle='--')\n",
    "plt.plot(x,np.log(d_mean[1,1,:]),label=\"GP prior = \"+str(1)+\" N=20\",linestyle='--')\n",
    "plt.plot(x,np.log(d_mean[2,1,:]),label=\"GP prior = \"+str(1)+\" N=40\",linestyle='--')\n",
    "\n",
    "\n",
    "plt.ylim(2.9,3.7)\n",
    "plt.xlabel(\"Iterations\",fontsize=15)\n",
    "plt.ylabel(\"Dist(prior, learned bridge)\",fontsize=15)\n",
    "plt.legend()\n",
    "plt.savefig('well_compare_param.pdf')  \n"
   ]
  },
  {
   "cell_type": "code",
   "execution_count": null,
   "metadata": {},
   "outputs": [],
   "source": []
  }
 ],
 "metadata": {
  "kernelspec": {
   "display_name": "Python 3",
   "language": "python",
   "name": "python3"
  },
  "language_info": {
   "codemirror_mode": {
    "name": "ipython",
    "version": 3
   },
   "file_extension": ".py",
   "mimetype": "text/x-python",
   "name": "python",
   "nbconvert_exporter": "python",
   "pygments_lexer": "ipython3",
   "version": "3.8.5"
  }
 },
 "nbformat": 4,
 "nbformat_minor": 2
}
